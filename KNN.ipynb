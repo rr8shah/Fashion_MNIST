{
  "nbformat": 4,
  "nbformat_minor": 0,
  "metadata": {
    "kernelspec": {
      "display_name": "Python 3",
      "language": "python",
      "name": "python3"
    },
    "language_info": {
      "codemirror_mode": {
        "name": "ipython",
        "version": 3
      },
      "file_extension": ".py",
      "mimetype": "text/x-python",
      "name": "python",
      "nbconvert_exporter": "python",
      "pygments_lexer": "ipython3",
      "version": "3.7.6"
    },
    "colab": {
      "name": "KNN - Final",
      "provenance": [],
      "collapsed_sections": []
    }
  },
  "cells": [
    {
      "cell_type": "code",
      "metadata": {
        "id": "E8gyrnEra54i",
        "colab_type": "code",
        "colab": {}
      },
      "source": [
        "import pandas as pd\n",
        "import numpy as np\n",
        "import matplotlib.pyplot as plt\n",
        "from sklearn.decomposition import PCA\n",
        "from sklearn.metrics import accuracy_score"
      ],
      "execution_count": 0,
      "outputs": []
    },
    {
      "cell_type": "code",
      "metadata": {
        "id": "DezYaEtBkew3",
        "colab_type": "code",
        "outputId": "d4e4a7d4-ea92-4405-eb47-9ffeca1d7f43",
        "colab": {
          "base_uri": "https://localhost:8080/",
          "height": 121
        }
      },
      "source": [
        "from google.colab import drive\n",
        "drive.mount('/content/drive')"
      ],
      "execution_count": 2,
      "outputs": [
        {
          "output_type": "stream",
          "text": [
            "Go to this URL in a browser: https://accounts.google.com/o/oauth2/auth?client_id=947318989803-6bn6qk8qdgf4n4g3pfee6491hc0brc4i.apps.googleusercontent.com&redirect_uri=urn%3aietf%3awg%3aoauth%3a2.0%3aoob&response_type=code&scope=email%20https%3a%2f%2fwww.googleapis.com%2fauth%2fdocs.test%20https%3a%2f%2fwww.googleapis.com%2fauth%2fdrive%20https%3a%2f%2fwww.googleapis.com%2fauth%2fdrive.photos.readonly%20https%3a%2f%2fwww.googleapis.com%2fauth%2fpeopleapi.readonly\n",
            "\n",
            "Enter your authorization code:\n",
            "··········\n",
            "Mounted at /content/drive\n"
          ],
          "name": "stdout"
        }
      ]
    },
    {
      "cell_type": "code",
      "metadata": {
        "id": "shkTycRxkj9T",
        "colab_type": "code",
        "outputId": "3dd0bea7-ecad-44c3-d1ff-1060409ac8ed",
        "colab": {
          "base_uri": "https://localhost:8080/",
          "height": 34
        }
      },
      "source": [
        "cd \"drive/My Drive\""
      ],
      "execution_count": 3,
      "outputs": [
        {
          "output_type": "stream",
          "text": [
            "/content/drive/My Drive\n"
          ],
          "name": "stdout"
        }
      ]
    },
    {
      "cell_type": "code",
      "metadata": {
        "id": "_OBUgbU2a548",
        "colab_type": "code",
        "colab": {}
      },
      "source": [
        "fea = []\n",
        "for i in range(1,785):\n",
        "  fea.append(str(i))\n",
        "X = pd.read_csv('train_p1.csv', usecols = fea)\n",
        "y = pd.read_csv('train_p1.csv', usecols= ['Label'])\n",
        "test_fea = [str(i) for i in range(0,784)]\n",
        "X_test_t = pd.read_csv('testX_p1.csv', usecols=test_fea)\n",
        "\n",
        "from sklearn.model_selection import train_test_split\n",
        "X_train,X_val,y_train,y_val = train_test_split(X, y, test_size = 0.1,random_state = 42)"
      ],
      "execution_count": 0,
      "outputs": []
    },
    {
      "cell_type": "code",
      "metadata": {
        "id": "76joXbQ8a55M",
        "colab_type": "code",
        "outputId": "7b6b99f6-c3aa-4d4b-f0f0-0fd06c5c862c",
        "colab": {
          "base_uri": "https://localhost:8080/",
          "height": 34
        }
      },
      "source": [
        "X_train.shape"
      ],
      "execution_count": 5,
      "outputs": [
        {
          "output_type": "execute_result",
          "data": {
            "text/plain": [
              "(54000, 784)"
            ]
          },
          "metadata": {
            "tags": []
          },
          "execution_count": 5
        }
      ]
    },
    {
      "cell_type": "code",
      "metadata": {
        "id": "tw5lIlG1blon",
        "colab_type": "code",
        "colab": {}
      },
      "source": [
        "from sklearn.preprocessing import StandardScaler\n",
        "scalar = StandardScaler(with_std = False)\n",
        "#X =scalar.fit_transform(X)\n",
        "X_train = scalar.fit_transform(X_train)\n",
        "#X_test_t = scalar.transform(X_test_t)\n",
        "X_val = scalar.transform(X_val)"
      ],
      "execution_count": 0,
      "outputs": []
    },
    {
      "cell_type": "code",
      "metadata": {
        "id": "m5Zr2J-Ca55u",
        "colab_type": "code",
        "colab": {}
      },
      "source": [
        "from sklearn.decomposition import PCA\n",
        "pca = PCA(n_components = 85, random_state = 42)\n",
        "X_r = pca.fit_transform(X_train)\n",
        "X_val_r = pca.transform(X_val)"
      ],
      "execution_count": 0,
      "outputs": []
    },
    {
      "cell_type": "code",
      "metadata": {
        "id": "FAGP8Le7a554",
        "colab_type": "code",
        "outputId": "e34865a3-1224-4f5b-ef14-6eb45d311eea",
        "colab": {
          "base_uri": "https://localhost:8080/",
          "height": 423
        }
      },
      "source": [
        "from sklearn.neighbors import KNeighborsClassifier\n",
        "import time\n",
        "nbr = [1,2,3,4,5,6,7,8,9,10]\n",
        "acc1 = []\n",
        "t1 = []\n",
        "t1_t = []\n",
        "for i in nbr:\n",
        "    neigh = KNeighborsClassifier(n_neighbors=i)\n",
        "    start = time.time()\n",
        "    neigh.fit(X_r, y_train)\n",
        "    end = time.time()\n",
        "    start_t = time.time()\n",
        "    y_pred = neigh.predict(X_val_r)\n",
        "    end_t = time.time()\n",
        "    accuracy = accuracy_score(y_val, y_pred)*100\n",
        "    acc1.append(accuracy)\n",
        "    t1.append(end - start)\n",
        "    t1_t.append(end_t - start_t)\n",
        "print(acc1)\n",
        "print(t1)\n",
        "print(t1_t)"
      ],
      "execution_count": 8,
      "outputs": [
        {
          "output_type": "stream",
          "text": [
            "/usr/local/lib/python3.6/dist-packages/ipykernel_launcher.py:10: DataConversionWarning: A column-vector y was passed when a 1d array was expected. Please change the shape of y to (n_samples, ), for example using ravel().\n",
            "  # Remove the CWD from sys.path while we load stuff.\n",
            "/usr/local/lib/python3.6/dist-packages/ipykernel_launcher.py:10: DataConversionWarning: A column-vector y was passed when a 1d array was expected. Please change the shape of y to (n_samples, ), for example using ravel().\n",
            "  # Remove the CWD from sys.path while we load stuff.\n",
            "/usr/local/lib/python3.6/dist-packages/ipykernel_launcher.py:10: DataConversionWarning: A column-vector y was passed when a 1d array was expected. Please change the shape of y to (n_samples, ), for example using ravel().\n",
            "  # Remove the CWD from sys.path while we load stuff.\n",
            "/usr/local/lib/python3.6/dist-packages/ipykernel_launcher.py:10: DataConversionWarning: A column-vector y was passed when a 1d array was expected. Please change the shape of y to (n_samples, ), for example using ravel().\n",
            "  # Remove the CWD from sys.path while we load stuff.\n",
            "/usr/local/lib/python3.6/dist-packages/ipykernel_launcher.py:10: DataConversionWarning: A column-vector y was passed when a 1d array was expected. Please change the shape of y to (n_samples, ), for example using ravel().\n",
            "  # Remove the CWD from sys.path while we load stuff.\n",
            "/usr/local/lib/python3.6/dist-packages/ipykernel_launcher.py:10: DataConversionWarning: A column-vector y was passed when a 1d array was expected. Please change the shape of y to (n_samples, ), for example using ravel().\n",
            "  # Remove the CWD from sys.path while we load stuff.\n",
            "/usr/local/lib/python3.6/dist-packages/ipykernel_launcher.py:10: DataConversionWarning: A column-vector y was passed when a 1d array was expected. Please change the shape of y to (n_samples, ), for example using ravel().\n",
            "  # Remove the CWD from sys.path while we load stuff.\n",
            "/usr/local/lib/python3.6/dist-packages/ipykernel_launcher.py:10: DataConversionWarning: A column-vector y was passed when a 1d array was expected. Please change the shape of y to (n_samples, ), for example using ravel().\n",
            "  # Remove the CWD from sys.path while we load stuff.\n",
            "/usr/local/lib/python3.6/dist-packages/ipykernel_launcher.py:10: DataConversionWarning: A column-vector y was passed when a 1d array was expected. Please change the shape of y to (n_samples, ), for example using ravel().\n",
            "  # Remove the CWD from sys.path while we load stuff.\n",
            "/usr/local/lib/python3.6/dist-packages/ipykernel_launcher.py:10: DataConversionWarning: A column-vector y was passed when a 1d array was expected. Please change the shape of y to (n_samples, ), for example using ravel().\n",
            "  # Remove the CWD from sys.path while we load stuff.\n"
          ],
          "name": "stderr"
        },
        {
          "output_type": "stream",
          "text": [
            "[82.73333333333333, 80.75, 84.71666666666667, 83.58333333333333, 85.43333333333332, 84.98333333333333, 85.65, 85.46666666666667, 86.2, 85.56666666666666]\n",
            "[0.7755603790283203, 0.7558574676513672, 0.7638945579528809, 0.7482140064239502, 0.757073163986206, 0.755486249923706, 0.7733571529388428, 0.7500231266021729, 0.7510967254638672, 0.7686717510223389]\n",
            "[6.9054906368255615, 7.841815233230591, 8.358718633651733, 8.973205089569092, 9.150083303451538, 9.405264377593994, 9.631402492523193, 9.649826049804688, 9.917435646057129, 10.159942388534546]\n"
          ],
          "name": "stdout"
        }
      ]
    },
    {
      "cell_type": "code",
      "metadata": {
        "id": "xCU42mX7eYog",
        "colab_type": "code",
        "outputId": "f2a2fd6a-0fa1-4563-93f0-560f708af26c",
        "colab": {
          "base_uri": "https://localhost:8080/",
          "height": 423
        }
      },
      "source": [
        "nbr = [10,20,30,40,50,60,70,80,90,100]\n",
        "acc2 = []\n",
        "t2 = []\n",
        "t2_t = []\n",
        "for i in nbr:\n",
        "    neigh = KNeighborsClassifier(n_neighbors=i)\n",
        "    start = time.time()\n",
        "    neigh.fit(X_r, y_train)\n",
        "    end = time.time()\n",
        "    start_t = time.time()\n",
        "    y_pred = neigh.predict(X_val_r)\n",
        "    end_t = time.time()\n",
        "    accuracy = accuracy_score(y_val, y_pred)*100\n",
        "    acc2.append(accuracy)\n",
        "    t2.append(end - start)\n",
        "    t2_t.append(end_t - start_t)\n",
        "print(acc2)\n",
        "print(t2)\n",
        "print(t2_t)"
      ],
      "execution_count": 9,
      "outputs": [
        {
          "output_type": "stream",
          "text": [
            "/usr/local/lib/python3.6/dist-packages/ipykernel_launcher.py:8: DataConversionWarning: A column-vector y was passed when a 1d array was expected. Please change the shape of y to (n_samples, ), for example using ravel().\n",
            "  \n",
            "/usr/local/lib/python3.6/dist-packages/ipykernel_launcher.py:8: DataConversionWarning: A column-vector y was passed when a 1d array was expected. Please change the shape of y to (n_samples, ), for example using ravel().\n",
            "  \n",
            "/usr/local/lib/python3.6/dist-packages/ipykernel_launcher.py:8: DataConversionWarning: A column-vector y was passed when a 1d array was expected. Please change the shape of y to (n_samples, ), for example using ravel().\n",
            "  \n",
            "/usr/local/lib/python3.6/dist-packages/ipykernel_launcher.py:8: DataConversionWarning: A column-vector y was passed when a 1d array was expected. Please change the shape of y to (n_samples, ), for example using ravel().\n",
            "  \n",
            "/usr/local/lib/python3.6/dist-packages/ipykernel_launcher.py:8: DataConversionWarning: A column-vector y was passed when a 1d array was expected. Please change the shape of y to (n_samples, ), for example using ravel().\n",
            "  \n",
            "/usr/local/lib/python3.6/dist-packages/ipykernel_launcher.py:8: DataConversionWarning: A column-vector y was passed when a 1d array was expected. Please change the shape of y to (n_samples, ), for example using ravel().\n",
            "  \n",
            "/usr/local/lib/python3.6/dist-packages/ipykernel_launcher.py:8: DataConversionWarning: A column-vector y was passed when a 1d array was expected. Please change the shape of y to (n_samples, ), for example using ravel().\n",
            "  \n",
            "/usr/local/lib/python3.6/dist-packages/ipykernel_launcher.py:8: DataConversionWarning: A column-vector y was passed when a 1d array was expected. Please change the shape of y to (n_samples, ), for example using ravel().\n",
            "  \n",
            "/usr/local/lib/python3.6/dist-packages/ipykernel_launcher.py:8: DataConversionWarning: A column-vector y was passed when a 1d array was expected. Please change the shape of y to (n_samples, ), for example using ravel().\n",
            "  \n",
            "/usr/local/lib/python3.6/dist-packages/ipykernel_launcher.py:8: DataConversionWarning: A column-vector y was passed when a 1d array was expected. Please change the shape of y to (n_samples, ), for example using ravel().\n",
            "  \n"
          ],
          "name": "stderr"
        },
        {
          "output_type": "stream",
          "text": [
            "[85.56666666666666, 85.5, 85.39999999999999, 84.98333333333333, 84.63333333333334, 84.51666666666667, 84.5, 84.46666666666667, 84.13333333333334, 83.8]\n",
            "[0.7758829593658447, 0.7696619033813477, 0.7648146152496338, 0.7631237506866455, 0.7667865753173828, 0.7581110000610352, 0.7711656093597412, 0.762432336807251, 0.7576203346252441, 0.773137092590332]\n",
            "[10.250173330307007, 11.78199315071106, 12.067793607711792, 12.698974370956421, 13.192529916763306, 13.681445360183716, 14.89473295211792, 14.325230598449707, 14.846050262451172, 15.149098873138428]\n"
          ],
          "name": "stdout"
        }
      ]
    },
    {
      "cell_type": "code",
      "metadata": {
        "id": "7iQCJxHles-r",
        "colab_type": "code",
        "outputId": "2dec70e6-b059-4bc7-dfed-94408f0de086",
        "colab": {
          "base_uri": "https://localhost:8080/",
          "height": 423
        }
      },
      "source": [
        "nbr = [10,20,30,40,50,60,70,80,90,100]\n",
        "acc3 = []\n",
        "t3 = []\n",
        "t3_t = []\n",
        "for i in nbr:\n",
        "    neigh = KNeighborsClassifier(n_neighbors=i)\n",
        "    start = time.time()\n",
        "    neigh.fit(X_r, y_train)\n",
        "    end = time.time()\n",
        "    start_t = time.time()\n",
        "    y_pred = neigh.predict(X_val_r)\n",
        "    end_t = time.time()\n",
        "    accuracy = accuracy_score(y_val, y_pred)*100\n",
        "    acc3.append(accuracy)\n",
        "    t3.append(end - start)\n",
        "    t3_t.append(end_t - start_t)\n",
        "print(acc3)\n",
        "print(t3)\n",
        "print(t3_t)"
      ],
      "execution_count": 10,
      "outputs": [
        {
          "output_type": "stream",
          "text": [
            "/usr/local/lib/python3.6/dist-packages/ipykernel_launcher.py:8: DataConversionWarning: A column-vector y was passed when a 1d array was expected. Please change the shape of y to (n_samples, ), for example using ravel().\n",
            "  \n",
            "/usr/local/lib/python3.6/dist-packages/ipykernel_launcher.py:8: DataConversionWarning: A column-vector y was passed when a 1d array was expected. Please change the shape of y to (n_samples, ), for example using ravel().\n",
            "  \n",
            "/usr/local/lib/python3.6/dist-packages/ipykernel_launcher.py:8: DataConversionWarning: A column-vector y was passed when a 1d array was expected. Please change the shape of y to (n_samples, ), for example using ravel().\n",
            "  \n",
            "/usr/local/lib/python3.6/dist-packages/ipykernel_launcher.py:8: DataConversionWarning: A column-vector y was passed when a 1d array was expected. Please change the shape of y to (n_samples, ), for example using ravel().\n",
            "  \n",
            "/usr/local/lib/python3.6/dist-packages/ipykernel_launcher.py:8: DataConversionWarning: A column-vector y was passed when a 1d array was expected. Please change the shape of y to (n_samples, ), for example using ravel().\n",
            "  \n",
            "/usr/local/lib/python3.6/dist-packages/ipykernel_launcher.py:8: DataConversionWarning: A column-vector y was passed when a 1d array was expected. Please change the shape of y to (n_samples, ), for example using ravel().\n",
            "  \n",
            "/usr/local/lib/python3.6/dist-packages/ipykernel_launcher.py:8: DataConversionWarning: A column-vector y was passed when a 1d array was expected. Please change the shape of y to (n_samples, ), for example using ravel().\n",
            "  \n",
            "/usr/local/lib/python3.6/dist-packages/ipykernel_launcher.py:8: DataConversionWarning: A column-vector y was passed when a 1d array was expected. Please change the shape of y to (n_samples, ), for example using ravel().\n",
            "  \n",
            "/usr/local/lib/python3.6/dist-packages/ipykernel_launcher.py:8: DataConversionWarning: A column-vector y was passed when a 1d array was expected. Please change the shape of y to (n_samples, ), for example using ravel().\n",
            "  \n",
            "/usr/local/lib/python3.6/dist-packages/ipykernel_launcher.py:8: DataConversionWarning: A column-vector y was passed when a 1d array was expected. Please change the shape of y to (n_samples, ), for example using ravel().\n",
            "  \n"
          ],
          "name": "stderr"
        },
        {
          "output_type": "stream",
          "text": [
            "[85.56666666666666, 85.5, 85.39999999999999, 84.98333333333333, 84.63333333333334, 84.51666666666667, 84.5, 84.46666666666667, 84.13333333333334, 83.8]\n",
            "[0.772824764251709, 0.7559237480163574, 0.7866361141204834, 0.7821028232574463, 0.7601611614227295, 0.7630331516265869, 0.7727799415588379, 0.7842588424682617, 0.7763381004333496, 0.7823324203491211]\n",
            "[10.110368728637695, 11.26518988609314, 12.109354019165039, 12.743389129638672, 13.278758764266968, 13.68213701248169, 14.147733211517334, 14.433142900466919, 14.916447639465332, 15.000877618789673]\n"
          ],
          "name": "stdout"
        }
      ]
    },
    {
      "cell_type": "code",
      "metadata": {
        "id": "poUySZyXa569",
        "colab_type": "code",
        "colab": {}
      },
      "source": [
        ""
      ],
      "execution_count": 0,
      "outputs": []
    }
  ]
}
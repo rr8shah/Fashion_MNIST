{
  "nbformat": 4,
  "nbformat_minor": 0,
  "metadata": {
    "colab": {
      "name": "Logistic Regression",
      "provenance": [],
      "collapsed_sections": [],
      "machine_shape": "hm"
    },
    "kernelspec": {
      "name": "python3",
      "display_name": "Python 3"
    }
  },
  "cells": [
    {
      "cell_type": "code",
      "metadata": {
        "id": "isPPIt-kwOq2",
        "colab_type": "code",
        "outputId": "c45ca7b7-6573-4622-fb4b-8a53193d52f4",
        "colab": {
          "base_uri": "https://localhost:8080/",
          "height": 121
        }
      },
      "source": [
        "from google.colab import drive\n",
        "drive.mount('/content/drive')"
      ],
      "execution_count": 1,
      "outputs": [
        {
          "output_type": "stream",
          "text": [
            "Go to this URL in a browser: https://accounts.google.com/o/oauth2/auth?client_id=947318989803-6bn6qk8qdgf4n4g3pfee6491hc0brc4i.apps.googleusercontent.com&redirect_uri=urn%3aietf%3awg%3aoauth%3a2.0%3aoob&response_type=code&scope=email%20https%3a%2f%2fwww.googleapis.com%2fauth%2fdocs.test%20https%3a%2f%2fwww.googleapis.com%2fauth%2fdrive%20https%3a%2f%2fwww.googleapis.com%2fauth%2fdrive.photos.readonly%20https%3a%2f%2fwww.googleapis.com%2fauth%2fpeopleapi.readonly\n",
            "\n",
            "Enter your authorization code:\n",
            "··········\n",
            "Mounted at /content/drive\n"
          ],
          "name": "stdout"
        }
      ]
    },
    {
      "cell_type": "code",
      "metadata": {
        "id": "Dh1hP2EKwfS6",
        "colab_type": "code",
        "outputId": "609e335c-17f9-4d4a-85be-b9e5339ded0b",
        "colab": {
          "base_uri": "https://localhost:8080/",
          "height": 34
        }
      },
      "source": [
        "cd \"drive/My Drive\""
      ],
      "execution_count": 2,
      "outputs": [
        {
          "output_type": "stream",
          "text": [
            "/content/drive/My Drive\n"
          ],
          "name": "stdout"
        }
      ]
    },
    {
      "cell_type": "code",
      "metadata": {
        "id": "BODOpEoKwrSK",
        "colab_type": "code",
        "outputId": "82afca2e-e0a9-45a4-f6a6-17d85c8ea72d",
        "colab": {
          "base_uri": "https://localhost:8080/",
          "height": 70
        }
      },
      "source": [
        "import numpy as np\n",
        "import pandas as pd\n",
        "import matplotlib.pyplot as plt\n",
        "import seaborn as sns"
      ],
      "execution_count": 3,
      "outputs": [
        {
          "output_type": "stream",
          "text": [
            "/usr/local/lib/python3.6/dist-packages/statsmodels/tools/_testing.py:19: FutureWarning: pandas.util.testing is deprecated. Use the functions in the public API at pandas.testing instead.\n",
            "  import pandas.util.testing as tm\n"
          ],
          "name": "stderr"
        }
      ]
    },
    {
      "cell_type": "code",
      "metadata": {
        "id": "oumdoIdSwwcx",
        "colab_type": "code",
        "colab": {}
      },
      "source": [
        "fea = []\n",
        "for i in range(1,785):\n",
        "  fea.append(str(i))\n",
        "X = pd.read_csv('train_p1.csv', usecols = fea)\n",
        "y = pd.read_csv('train_p1.csv', usecols= ['Label'])\n",
        "test_fea = [str(i) for i in range(0,784)]\n",
        "X_test_t = pd.read_csv('testX_p1.csv', usecols=test_fea)"
      ],
      "execution_count": 0,
      "outputs": []
    },
    {
      "cell_type": "code",
      "metadata": {
        "id": "lNisj4twIJW4",
        "colab_type": "code",
        "outputId": "8dce99d7-e41a-40d0-b6db-6872bff2c828",
        "colab": {
          "base_uri": "https://localhost:8080/",
          "height": 34
        }
      },
      "source": [
        "X.shape"
      ],
      "execution_count": 5,
      "outputs": [
        {
          "output_type": "execute_result",
          "data": {
            "text/plain": [
              "(60000, 784)"
            ]
          },
          "metadata": {
            "tags": []
          },
          "execution_count": 5
        }
      ]
    },
    {
      "cell_type": "code",
      "metadata": {
        "id": "yLdyzyFDwzHp",
        "colab_type": "code",
        "colab": {}
      },
      "source": [
        "from sklearn.model_selection import train_test_split\n",
        "X_train,X_val,y_train,y_val = train_test_split(X, y, test_size = 0.1,random_state = 42)"
      ],
      "execution_count": 0,
      "outputs": []
    },
    {
      "cell_type": "code",
      "metadata": {
        "id": "O1BCpGUjw3wl",
        "colab_type": "code",
        "colab": {}
      },
      "source": [
        "#X_train =np.array(X_train, dtype ='float32')\n",
        "#X_val =np.array(X_val,dtype ='float32')\n",
        "#y_train =np.array(y_train,dtype ='float32')\n",
        "#y_val =np.array(y_val,dtype ='float32')"
      ],
      "execution_count": 0,
      "outputs": []
    },
    {
      "cell_type": "code",
      "metadata": {
        "id": "Mbu-IchZw6wj",
        "colab_type": "code",
        "colab": {}
      },
      "source": [
        "from sklearn.preprocessing import StandardScaler\n",
        "scalar = StandardScaler(with_std= False)\n",
        "#X =scalar.fit_transform(X)\n",
        "X_train = scalar.fit_transform(X_train)\n",
        "#X_test_t = scalar.transform(X_test_t)\n",
        "X_val = scalar.transform(X_val)"
      ],
      "execution_count": 0,
      "outputs": []
    },
    {
      "cell_type": "code",
      "metadata": {
        "id": "9A0Mt2Mes5NB",
        "colab_type": "code",
        "colab": {}
      },
      "source": [
        "from sklearn.decomposition import PCA\n",
        "pca = PCA(random_state = 42)"
      ],
      "execution_count": 0,
      "outputs": []
    },
    {
      "cell_type": "code",
      "metadata": {
        "id": "RJxvRjbYZfMi",
        "colab_type": "code",
        "colab": {}
      },
      "source": [
        "X_r = pca.fit_transform(X_train)"
      ],
      "execution_count": 0,
      "outputs": []
    },
    {
      "cell_type": "code",
      "metadata": {
        "id": "r7BiQ8otZp9n",
        "colab_type": "code",
        "outputId": "5722f99a-ebb0-49bb-e53b-50f2c84a2ca4",
        "colab": {
          "base_uri": "https://localhost:8080/",
          "height": 34
        }
      },
      "source": [
        "sum_cum = np.cumsum(pca.explained_variance_ratio_)\n",
        "index = [i for i in range(1,785)]\n",
        "sum_cum[6]"
      ],
      "execution_count": 11,
      "outputs": [
        {
          "output_type": "execute_result",
          "data": {
            "text/plain": [
              "0.6745677817896812"
            ]
          },
          "metadata": {
            "tags": []
          },
          "execution_count": 11
        }
      ]
    },
    {
      "cell_type": "code",
      "metadata": {
        "id": "FsG7a6OQaelB",
        "colab_type": "code",
        "colab": {}
      },
      "source": [
        "for k in range(0,784):\n",
        "  if sum_cum[k] >= 0.9:\n",
        "    h = k\n",
        "    break\n",
        "  else:\n",
        "    continue"
      ],
      "execution_count": 0,
      "outputs": []
    },
    {
      "cell_type": "code",
      "metadata": {
        "id": "4nm-OaTeajrU",
        "colab_type": "code",
        "outputId": "8fd021cc-7bce-4158-d494-2df734a81217",
        "colab": {
          "base_uri": "https://localhost:8080/",
          "height": 34
        }
      },
      "source": [
        "h"
      ],
      "execution_count": 13,
      "outputs": [
        {
          "output_type": "execute_result",
          "data": {
            "text/plain": [
              "83"
            ]
          },
          "metadata": {
            "tags": []
          },
          "execution_count": 13
        }
      ]
    },
    {
      "cell_type": "code",
      "metadata": {
        "id": "chQZzs6P1vto",
        "colab_type": "code",
        "outputId": "6d1e47f0-dd14-4af5-94dc-441889d74978",
        "colab": {
          "base_uri": "https://localhost:8080/",
          "height": 34
        }
      },
      "source": [
        "from sklearn.decomposition import PCA\n",
        "pca = PCA(n_components = 85)\n",
        "X_r = pca.fit_transform(X_train)\n",
        "X_r.shape"
      ],
      "execution_count": 14,
      "outputs": [
        {
          "output_type": "execute_result",
          "data": {
            "text/plain": [
              "(54000, 85)"
            ]
          },
          "metadata": {
            "tags": []
          },
          "execution_count": 14
        }
      ]
    },
    {
      "cell_type": "code",
      "metadata": {
        "id": "_85LZIuMtMrX",
        "colab_type": "code",
        "colab": {}
      },
      "source": [
        "X_val_r = pca.transform(X_val)\n",
        "#X_test_t = pca.transform(X_test_t)"
      ],
      "execution_count": 0,
      "outputs": []
    },
    {
      "cell_type": "code",
      "metadata": {
        "id": "g5erzwr-Vqig",
        "colab_type": "code",
        "outputId": "90b41368-22cd-468c-ae45-2b70a4a11ea3",
        "colab": {
          "base_uri": "https://localhost:8080/",
          "height": 255
        }
      },
      "source": [
        "from sklearn.linear_model import LogisticRegression\n",
        "from sklearn.metrics import accuracy_score\n",
        "import time\n",
        "model = LogisticRegression()\n",
        "start = time.time()\n",
        "model.fit(X_r,y_train)\n",
        "end = time.time()\n",
        "start_t = time.time()\n",
        "y_pred = model.predict(X_val_r) \n",
        "end_t = time.time()\n",
        "accuracy = accuracy_score(y_val, y_pred)\n",
        "print('Accuracy : %f' %accuracy)\n",
        "print('Training Time : %f' %(end - start))\n",
        "print('Validation Time : %f' %(end_t - start_t))\n"
      ],
      "execution_count": 16,
      "outputs": [
        {
          "output_type": "stream",
          "text": [
            "/usr/local/lib/python3.6/dist-packages/sklearn/utils/validation.py:760: DataConversionWarning: A column-vector y was passed when a 1d array was expected. Please change the shape of y to (n_samples, ), for example using ravel().\n",
            "  y = column_or_1d(y, warn=True)\n"
          ],
          "name": "stderr"
        },
        {
          "output_type": "stream",
          "text": [
            "Accuracy : 0.666167\n",
            "Training Time : 5.414057\n",
            "Validation Time : 0.001653\n"
          ],
          "name": "stdout"
        },
        {
          "output_type": "stream",
          "text": [
            "/usr/local/lib/python3.6/dist-packages/sklearn/linear_model/_logistic.py:940: ConvergenceWarning: lbfgs failed to converge (status=1):\n",
            "STOP: TOTAL NO. of ITERATIONS REACHED LIMIT.\n",
            "\n",
            "Increase the number of iterations (max_iter) or scale the data as shown in:\n",
            "    https://scikit-learn.org/stable/modules/preprocessing.html\n",
            "Please also refer to the documentation for alternative solver options:\n",
            "    https://scikit-learn.org/stable/modules/linear_model.html#logistic-regression\n",
            "  extra_warning_msg=_LOGISTIC_SOLVER_CONVERGENCE_MSG)\n"
          ],
          "name": "stderr"
        }
      ]
    },
    {
      "cell_type": "code",
      "metadata": {
        "id": "_-lc51q8bbHH",
        "colab_type": "code",
        "colab": {}
      },
      "source": [
        ""
      ],
      "execution_count": 0,
      "outputs": []
    }
  ]
}
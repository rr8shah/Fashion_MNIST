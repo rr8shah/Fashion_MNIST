{
  "nbformat": 4,
  "nbformat_minor": 0,
  "metadata": {
    "colab": {
      "name": "ResNet T1",
      "provenance": [],
      "collapsed_sections": []
    },
    "kernelspec": {
      "name": "python3",
      "display_name": "Python 3"
    },
    "accelerator": "GPU"
  },
  "cells": [
    {
      "cell_type": "code",
      "metadata": {
        "id": "7sDj7Dd2Xtjk",
        "colab_type": "code",
        "outputId": "8c1c017f-d3ea-41e7-cbe4-0620e52ba600",
        "colab": {
          "base_uri": "https://localhost:8080/",
          "height": 34
        }
      },
      "source": [
        "from google.colab import drive\n",
        "drive.mount('/content/drive')"
      ],
      "execution_count": 0,
      "outputs": [
        {
          "output_type": "stream",
          "text": [
            "Mounted at /content/drive\n"
          ],
          "name": "stdout"
        }
      ]
    },
    {
      "cell_type": "code",
      "metadata": {
        "id": "vO26r4EtEFKP",
        "colab_type": "code",
        "outputId": "ac5d9294-50ed-4d6d-849c-5e2072aa2b5b",
        "colab": {
          "base_uri": "https://localhost:8080/",
          "height": 34
        }
      },
      "source": [
        "cd /content/drive/My\\ Drive/657A3part2"
      ],
      "execution_count": 0,
      "outputs": [
        {
          "output_type": "stream",
          "text": [
            "/content/drive/My Drive/657A3part2\n"
          ],
          "name": "stdout"
        }
      ]
    },
    {
      "cell_type": "code",
      "metadata": {
        "id": "oDZc2scOEzmx",
        "colab_type": "code",
        "colab": {}
      },
      "source": [
        "import numpy as np\n",
        "import pandas as pd\n",
        "import matplotlib.pyplot as plt"
      ],
      "execution_count": 0,
      "outputs": []
    },
    {
      "cell_type": "code",
      "metadata": {
        "id": "OLtDmaQHE4C4",
        "colab_type": "code",
        "colab": {}
      },
      "source": [
        "fea = []\n",
        "for i in range(1,785):\n",
        "  fea.append(str(i))\n",
        "X = pd.read_csv('train.csv', usecols = fea)\n",
        "y = pd.read_csv('train.csv', usecols= ['Label'])"
      ],
      "execution_count": 0,
      "outputs": []
    },
    {
      "cell_type": "code",
      "metadata": {
        "id": "SxyErJRCM-58",
        "colab_type": "code",
        "outputId": "9c0a1fe1-a55c-4b96-afef-adecbb6b722f",
        "colab": {
          "base_uri": "https://localhost:8080/",
          "height": 252
        }
      },
      "source": [
        "print(X.head)"
      ],
      "execution_count": 0,
      "outputs": [
        {
          "output_type": "stream",
          "text": [
            "<bound method NDFrame.head of        1  2  3  4  5  6  7  8  9  ...  776  777  778  779  780  781  782  783  784\n",
            "0      0  0  0  0  0  0  0  0  0  ...    0    0    0    0    0    0    0    0    0\n",
            "1      0  0  0  0  0  0  0  0  0  ...    0    0    0    0    0    0    0    0    0\n",
            "2      0  0  0  0  0  0  0  0  1  ...    9    0    0    0    0    0    0    0    0\n",
            "3      0  0  0  0  0  0  0  0  0  ...    0    0    0    0    0    0    0    0    0\n",
            "4      0  0  0  0  0  0  0  0  0  ...    0    0    0    0    0    0    0    0    0\n",
            "...   .. .. .. .. .. .. .. .. ..  ...  ...  ...  ...  ...  ...  ...  ...  ...  ...\n",
            "59995  0  0  0  0  0  0  0  0  0  ...    0    0    0    0    0    0    0    0    0\n",
            "59996  0  0  0  0  0  0  0  0  0  ...    0    0    0    0    0    0    0    0    0\n",
            "59997  0  0  0  0  0  0  0  0  0  ...    0    0    0    0    0    0    0    0    0\n",
            "59998  0  0  0  0  0  0  0  0  0  ...    0    0    0    0    0    0    0    0    0\n",
            "59999  0  0  0  0  0  0  0  0  0  ...    0    0    0    0    0    0    0    0    0\n",
            "\n",
            "[60000 rows x 784 columns]>\n"
          ],
          "name": "stdout"
        }
      ]
    },
    {
      "cell_type": "code",
      "metadata": {
        "id": "eC3PtLSSNJyw",
        "colab_type": "code",
        "outputId": "f07f82d2-adf8-4b30-e197-1ce64cc10da7",
        "colab": {
          "base_uri": "https://localhost:8080/",
          "height": 252
        }
      },
      "source": [
        "print(y.head)"
      ],
      "execution_count": 0,
      "outputs": [
        {
          "output_type": "stream",
          "text": [
            "<bound method NDFrame.head of        Label\n",
            "0          4\n",
            "1          0\n",
            "2          0\n",
            "3          4\n",
            "4          1\n",
            "...      ...\n",
            "59995      3\n",
            "59996      0\n",
            "59997      4\n",
            "59998      0\n",
            "59999      2\n",
            "\n",
            "[60000 rows x 1 columns]>\n"
          ],
          "name": "stdout"
        }
      ]
    },
    {
      "cell_type": "code",
      "metadata": {
        "id": "MqOHMDa-S_xt",
        "colab_type": "code",
        "colab": {}
      },
      "source": [
        "from sklearn.model_selection import train_test_split\n",
        "X_train,X_test,y_train,y_test = train_test_split(X, y, test_size = 0.1,random_state = 42)"
      ],
      "execution_count": 0,
      "outputs": []
    },
    {
      "cell_type": "code",
      "metadata": {
        "id": "TtfaO_geV2k8",
        "colab_type": "code",
        "colab": {}
      },
      "source": [
        "X_train =np.array(X_train, dtype ='float32')\n",
        "X_test =np.array(X_test,dtype ='float32')\n",
        "y_train =np.array(y_train,dtype ='float32')\n",
        "y_test =np.array(y_test,dtype ='float32')"
      ],
      "execution_count": 0,
      "outputs": []
    },
    {
      "cell_type": "code",
      "metadata": {
        "id": "tPWPtrfQVG8D",
        "colab_type": "code",
        "outputId": "7154d2e9-492c-435b-f092-f4a361421667",
        "colab": {
          "base_uri": "https://localhost:8080/",
          "height": 282
        }
      },
      "source": [
        "import random\n",
        "i=random.randint(1,54000)\n",
        "plt.imshow(X_train[i,:].reshape(28,28))\n",
        "label=y_train[i,0]\n",
        "label"
      ],
      "execution_count": 0,
      "outputs": [
        {
          "output_type": "execute_result",
          "data": {
            "text/plain": [
              "0.0"
            ]
          },
          "metadata": {
            "tags": []
          },
          "execution_count": 10
        },
        {
          "output_type": "display_data",
          "data": {
            "image/png": "[encoded data removed]",
            "text/plain": [
              "<Figure size 432x288 with 1 Axes>"
            ]
          },
          "metadata": {
            "tags": [],
            "needs_background": "light"
          }
        }
      ]
    },
    {
      "cell_type": "code",
      "metadata": {
        "id": "O_jJvHfBVNtz",
        "colab_type": "code",
        "outputId": "a8ce4b97-17b4-494c-d91a-b72cf10ca470",
        "colab": {
          "base_uri": "https://localhost:8080/",
          "height": 1000
        }
      },
      "source": [
        "w_grid=9\n",
        "l_grid=9\n",
        "fig,axes = plt.subplots(l_grid,w_grid,figsize=(28,28))\n",
        "axes = axes.ravel()\n",
        "length = len(X_train)\n",
        "for i in np.arange(0,w_grid*l_grid): #create evenly spaces variables\n",
        "    #select a random number\n",
        "    \n",
        "    index = np.random.randint(0,length)\n",
        "    # read and disply and images with the selectd index\n",
        "    axes[i].imshow(X_train[index,:].reshape((28,28)))\n",
        "    axes[i].set_title(y_train[index,0],fontsize = 8)\n",
        "    axes[i].axis('off')\n",
        "    \n",
        "plt.subplots_adjust(hspace=0.4)"
      ],
      "execution_count": 0,
      "outputs": [
        {
          "output_type": "display_data",
          "data": {
            "image/png": "[encoded data removed]",
            "text/plain": [
              "<Figure size 2016x2016 with 81 Axes>"
            ]
          },
          "metadata": {
            "tags": [],
            "needs_background": "light"
          }
        }
      ]
    },
    {
      "cell_type": "code",
      "metadata": {
        "id": "5qhn-5RgXLAx",
        "colab_type": "code",
        "colab": {}
      },
      "source": [
        "X_train =X_train.reshape(X_train.shape[0],*(28,28,1))\n",
        "X_test = X_test.reshape(X_test.shape[0],*(28,28,1))\n",
        "#X_vali = X_vali.reshape(X_vali.shape[0],*(28,28,1))\n",
        "X_train=X_train[:,:]/255\n",
        "X_test= X_test[:,:]/255"
      ],
      "execution_count": 0,
      "outputs": []
    },
    {
      "cell_type": "code",
      "metadata": {
        "id": "2fEel6wtYn5A",
        "colab_type": "code",
        "outputId": "25b95b80-3fac-46f9-eb8f-ee6158138f01",
        "colab": {
          "base_uri": "https://localhost:8080/",
          "height": 34
        }
      },
      "source": [
        "X_train.shape"
      ],
      "execution_count": 0,
      "outputs": [
        {
          "output_type": "execute_result",
          "data": {
            "text/plain": [
              "(54000, 28, 28, 1)"
            ]
          },
          "metadata": {
            "tags": []
          },
          "execution_count": 13
        }
      ]
    },
    {
      "cell_type": "code",
      "metadata": {
        "id": "dIf5v42EYtDQ",
        "colab_type": "code",
        "colab": {}
      },
      "source": [
        "from tensorflow.python.keras import Sequential\n",
        "from tensorflow.keras import models\n",
        "from tensorflow.keras.layers import Conv2D,MaxPooling2D,Dense,Flatten,Dropout,BatchNormalization, Activation, add, Input, GlobalAveragePooling2D\n",
        "from tensorflow.keras.optimizers import Adam\n",
        "from tensorflow.keras.callbacks import TensorBoard\n",
        "from tensorflow.keras.models import Model"
      ],
      "execution_count": 0,
      "outputs": []
    },
    {
      "cell_type": "code",
      "metadata": {
        "id": "V3vjhulYaRb5",
        "colab_type": "code",
        "colab": {}
      },
      "source": [
        ""
      ],
      "execution_count": 0,
      "outputs": []
    },
    {
      "cell_type": "code",
      "metadata": {
        "id": "GvkjeBscoqwB",
        "colab_type": "code",
        "colab": {}
      },
      "source": [
        "def ResNet(x):\n",
        "  x = Conv2D(16, (5, 5), activation='relu', padding='same', kernel_initializer='uniform')(x)\n",
        "  x = BatchNormalization()(x)\n",
        "  x = Conv2D(32, (3, 3), activation='relu', padding='same', kernel_initializer='uniform')(x)\n",
        "  x = BatchNormalization()(x)\n",
        "  x = MaxPooling2D(pool_size=(2, 2))(x)\n",
        "  shortcut1 = x\n",
        "  x = Conv2D(32, (5, 5),activation='relu', padding='same',kernel_initializer='uniform')(x)\n",
        "  x = BatchNormalization()(x)\n",
        "  x = Conv2D(32, (5, 5),padding='same',kernel_initializer='uniform')(x)\n",
        "  x = BatchNormalization()(x)\n",
        "  x = add([shortcut1, x])\n",
        "  x = Activation('relu')(x)\n",
        "  x = Conv2D(64, (1, 1),activation='relu',padding='same',kernel_initializer='uniform')(x)\n",
        "  shortcut2 = x\n",
        "  x = Conv2D(64, (5, 5),activation='relu', padding='same',kernel_initializer='uniform')(x)\n",
        "  x = BatchNormalization()(x)\n",
        "  x = Conv2D(64, (5, 5),padding='same',kernel_initializer='uniform')(x)\n",
        "  x = BatchNormalization()(x)\n",
        "  x = add([shortcut2, x])\n",
        "  x = Activation('relu')(x)\n",
        "  x = Flatten()(x)\n",
        "  x = Dense(512, activation='relu')(x)\n",
        "  x = Dropout(0.25)(x)\n",
        "  x = Dense(128, activation='relu')(x)\n",
        "  x = Dropout(0.25)(x)\n",
        "  return x"
      ],
      "execution_count": 0,
      "outputs": []
    },
    {
      "cell_type": "code",
      "metadata": {
        "id": "POcFxrdiYwVt",
        "colab_type": "code",
        "colab": {}
      },
      "source": [
        "inputs = Input(shape=(28,28,1))\n",
        "x = ResNet(inputs)\n",
        "predictions = Dense(5, activation='softmax')(x)\n",
        "model = Model(inputs, predictions)\n",
        "model.compile(loss='sparse_categorical_crossentropy',optimizer=Adam(lr=0.0001),metrics =['accuracy'])  "
      ],
      "execution_count": 0,
      "outputs": []
    },
    {
      "cell_type": "code",
      "metadata": {
        "id": "7Bqn9rv4RXKL",
        "colab_type": "code",
        "outputId": "9515914d-495d-4241-f2b0-b9db2a2de809",
        "colab": {
          "base_uri": "https://localhost:8080/",
          "height": 1000
        }
      },
      "source": [
        "model.summary()"
      ],
      "execution_count": 0,
      "outputs": [
        {
          "output_type": "stream",
          "text": [
            "Model: \"model\"\n",
            "__________________________________________________________________________________________________\n",
            "Layer (type)                    Output Shape         Param #     Connected to                     \n",
            "==================================================================================================\n",
            "input_1 (InputLayer)            [(None, 28, 28, 1)]  0                                            \n",
            "__________________________________________________________________________________________________\n",
            "conv2d (Conv2D)                 (None, 28, 28, 16)   416         input_1[0][0]                    \n",
            "__________________________________________________________________________________________________\n",
            "batch_normalization (BatchNorma (None, 28, 28, 16)   64          conv2d[0][0]                     \n",
            "__________________________________________________________________________________________________\n",
            "conv2d_1 (Conv2D)               (None, 28, 28, 32)   4640        batch_normalization[0][0]        \n",
            "__________________________________________________________________________________________________\n",
            "batch_normalization_1 (BatchNor (None, 28, 28, 32)   128         conv2d_1[0][0]                   \n",
            "__________________________________________________________________________________________________\n",
            "max_pooling2d (MaxPooling2D)    (None, 14, 14, 32)   0           batch_normalization_1[0][0]      \n",
            "__________________________________________________________________________________________________\n",
            "conv2d_2 (Conv2D)               (None, 14, 14, 32)   25632       max_pooling2d[0][0]              \n",
            "__________________________________________________________________________________________________\n",
            "batch_normalization_2 (BatchNor (None, 14, 14, 32)   128         conv2d_2[0][0]                   \n",
            "__________________________________________________________________________________________________\n",
            "conv2d_3 (Conv2D)               (None, 14, 14, 32)   25632       batch_normalization_2[0][0]      \n",
            "__________________________________________________________________________________________________\n",
            "batch_normalization_3 (BatchNor (None, 14, 14, 32)   128         conv2d_3[0][0]                   \n",
            "__________________________________________________________________________________________________\n",
            "add (Add)                       (None, 14, 14, 32)   0           max_pooling2d[0][0]              \n",
            "                                                                 batch_normalization_3[0][0]      \n",
            "__________________________________________________________________________________________________\n",
            "activation (Activation)         (None, 14, 14, 32)   0           add[0][0]                        \n",
            "__________________________________________________________________________________________________\n",
            "conv2d_4 (Conv2D)               (None, 14, 14, 64)   2112        activation[0][0]                 \n",
            "__________________________________________________________________________________________________\n",
            "conv2d_5 (Conv2D)               (None, 14, 14, 64)   102464      conv2d_4[0][0]                   \n",
            "__________________________________________________________________________________________________\n",
            "batch_normalization_4 (BatchNor (None, 14, 14, 64)   256         conv2d_5[0][0]                   \n",
            "__________________________________________________________________________________________________\n",
            "conv2d_6 (Conv2D)               (None, 14, 14, 64)   102464      batch_normalization_4[0][0]      \n",
            "__________________________________________________________________________________________________\n",
            "batch_normalization_5 (BatchNor (None, 14, 14, 64)   256         conv2d_6[0][0]                   \n",
            "__________________________________________________________________________________________________\n",
            "add_1 (Add)                     (None, 14, 14, 64)   0           conv2d_4[0][0]                   \n",
            "                                                                 batch_normalization_5[0][0]      \n",
            "__________________________________________________________________________________________________\n",
            "activation_1 (Activation)       (None, 14, 14, 64)   0           add_1[0][0]                      \n",
            "__________________________________________________________________________________________________\n",
            "flatten (Flatten)               (None, 12544)        0           activation_1[0][0]               \n",
            "__________________________________________________________________________________________________\n",
            "dense (Dense)                   (None, 512)          6423040     flatten[0][0]                    \n",
            "__________________________________________________________________________________________________\n",
            "dropout (Dropout)               (None, 512)          0           dense[0][0]                      \n",
            "__________________________________________________________________________________________________\n",
            "dense_1 (Dense)                 (None, 128)          65664       dropout[0][0]                    \n",
            "__________________________________________________________________________________________________\n",
            "dropout_1 (Dropout)             (None, 128)          0           dense_1[0][0]                    \n",
            "__________________________________________________________________________________________________\n",
            "dense_2 (Dense)                 (None, 5)            645         dropout_1[0][0]                  \n",
            "==================================================================================================\n",
            "Total params: 6,753,669\n",
            "Trainable params: 6,753,189\n",
            "Non-trainable params: 480\n",
            "__________________________________________________________________________________________________\n"
          ],
          "name": "stdout"
        }
      ]
    },
    {
      "cell_type": "code",
      "metadata": {
        "id": "wwShN9XcYyZd",
        "colab_type": "code",
        "outputId": "d5b74ca2-380f-4dba-bd29-ac7cda2bf8df",
        "colab": {
          "base_uri": "https://localhost:8080/",
          "height": 1000
        }
      },
      "source": [
        "model.fit(X_train,\n",
        "          y_train,\n",
        "          batch_size= 1024,\n",
        "          epochs=400,\n",
        "          verbose=1,\n",
        "          validation_data=(X_test,y_test))"
      ],
      "execution_count": 0,
      "outputs": [
        {
          "output_type": "stream",
          "text": [
            "Epoch 1/400\n",
            "53/53 [==============================] - 7s 139ms/step - loss: 0.8293 - accuracy: 0.6563 - val_loss: 1.6408 - val_accuracy: 0.1983\n",
            "Epoch 2/400\n",
            "53/53 [==============================] - 6s 110ms/step - loss: 0.4893 - accuracy: 0.8027 - val_loss: 1.6781 - val_accuracy: 0.2050\n",
            "Epoch 3/400\n",
            "53/53 [==============================] - 6s 111ms/step - loss: 0.4098 - accuracy: 0.8358 - val_loss: 1.7077 - val_accuracy: 0.2050\n",
            "Epoch 4/400\n",
            "53/53 [==============================] - 6s 112ms/step - loss: 0.3673 - accuracy: 0.8533 - val_loss: 1.8033 - val_accuracy: 0.2050\n",
            "Epoch 5/400\n",
            "53/53 [==============================] - 6s 112ms/step - loss: 0.3297 - accuracy: 0.8705 - val_loss: 1.8284 - val_accuracy: 0.2050\n",
            "Epoch 6/400\n",
            "53/53 [==============================] - 6s 113ms/step - loss: 0.3029 - accuracy: 0.8810 - val_loss: 1.8531 - val_accuracy: 0.2050\n",
            "Epoch 7/400\n",
            "53/53 [==============================] - 6s 114ms/step - loss: 0.2798 - accuracy: 0.8896 - val_loss: 1.9645 - val_accuracy: 0.2242\n",
            "Epoch 8/400\n",
            "53/53 [==============================] - 6s 114ms/step - loss: 0.2599 - accuracy: 0.8979 - val_loss: 1.8136 - val_accuracy: 0.2678\n",
            "Epoch 9/400\n",
            "53/53 [==============================] - 6s 115ms/step - loss: 0.2450 - accuracy: 0.9048 - val_loss: 1.4709 - val_accuracy: 0.4013\n",
            "Epoch 10/400\n",
            "53/53 [==============================] - 6s 116ms/step - loss: 0.2219 - accuracy: 0.9147 - val_loss: 1.1674 - val_accuracy: 0.5257\n",
            "Epoch 11/400\n",
            "53/53 [==============================] - 6s 117ms/step - loss: 0.2087 - accuracy: 0.9203 - val_loss: 0.9284 - val_accuracy: 0.6210\n",
            "Epoch 12/400\n",
            "53/53 [==============================] - 6s 118ms/step - loss: 0.1890 - accuracy: 0.9288 - val_loss: 0.4996 - val_accuracy: 0.7957\n",
            "Epoch 13/400\n",
            "53/53 [==============================] - 6s 118ms/step - loss: 0.1838 - accuracy: 0.9301 - val_loss: 0.4696 - val_accuracy: 0.8140\n",
            "Epoch 14/400\n",
            "53/53 [==============================] - 6s 119ms/step - loss: 0.1514 - accuracy: 0.9433 - val_loss: 0.3960 - val_accuracy: 0.8460\n",
            "Epoch 15/400\n",
            "53/53 [==============================] - 6s 120ms/step - loss: 0.1372 - accuracy: 0.9497 - val_loss: 0.3511 - val_accuracy: 0.8622\n",
            "Epoch 16/400\n",
            "53/53 [==============================] - 6s 122ms/step - loss: 0.1363 - accuracy: 0.9493 - val_loss: 0.3281 - val_accuracy: 0.8768\n",
            "Epoch 17/400\n",
            "53/53 [==============================] - 7s 123ms/step - loss: 0.1215 - accuracy: 0.9550 - val_loss: 0.3573 - val_accuracy: 0.8710\n",
            "Epoch 18/400\n",
            "53/53 [==============================] - 7s 123ms/step - loss: 0.1018 - accuracy: 0.9637 - val_loss: 0.3190 - val_accuracy: 0.8860\n",
            "Epoch 19/400\n",
            "53/53 [==============================] - 7s 124ms/step - loss: 0.0976 - accuracy: 0.9650 - val_loss: 0.3167 - val_accuracy: 0.8818\n",
            "Epoch 20/400\n",
            "53/53 [==============================] - 7s 123ms/step - loss: 0.0826 - accuracy: 0.9713 - val_loss: 0.3336 - val_accuracy: 0.8842\n",
            "Epoch 21/400\n",
            "53/53 [==============================] - 6s 121ms/step - loss: 0.0731 - accuracy: 0.9761 - val_loss: 0.3696 - val_accuracy: 0.8783\n",
            "Epoch 22/400\n",
            "53/53 [==============================] - 6s 121ms/step - loss: 0.0722 - accuracy: 0.9749 - val_loss: 0.3650 - val_accuracy: 0.8732\n",
            "Epoch 23/400\n",
            "53/53 [==============================] - 6s 120ms/step - loss: 0.0635 - accuracy: 0.9798 - val_loss: 0.3515 - val_accuracy: 0.8838\n",
            "Epoch 24/400\n",
            "53/53 [==============================] - 6s 120ms/step - loss: 0.0526 - accuracy: 0.9836 - val_loss: 0.3670 - val_accuracy: 0.8817\n",
            "Epoch 25/400\n",
            "53/53 [==============================] - 6s 120ms/step - loss: 0.0510 - accuracy: 0.9838 - val_loss: 0.3606 - val_accuracy: 0.8865\n",
            "Epoch 26/400\n",
            "53/53 [==============================] - 6s 120ms/step - loss: 0.0413 - accuracy: 0.9874 - val_loss: 0.4109 - val_accuracy: 0.8733\n",
            "Epoch 27/400\n",
            "53/53 [==============================] - 6s 120ms/step - loss: 0.0477 - accuracy: 0.9840 - val_loss: 0.4313 - val_accuracy: 0.8740\n",
            "Epoch 28/400\n",
            "53/53 [==============================] - 6s 121ms/step - loss: 0.0371 - accuracy: 0.9887 - val_loss: 0.4363 - val_accuracy: 0.8715\n",
            "Epoch 29/400\n",
            "53/53 [==============================] - 6s 121ms/step - loss: 0.0357 - accuracy: 0.9892 - val_loss: 0.4340 - val_accuracy: 0.8765\n",
            "Epoch 30/400\n",
            "53/53 [==============================] - 6s 122ms/step - loss: 0.0345 - accuracy: 0.9894 - val_loss: 0.4194 - val_accuracy: 0.8850\n",
            "Epoch 31/400\n",
            "53/53 [==============================] - 6s 122ms/step - loss: 0.0271 - accuracy: 0.9918 - val_loss: 0.4071 - val_accuracy: 0.8808\n",
            "Epoch 32/400\n",
            "53/53 [==============================] - 7s 123ms/step - loss: 0.0235 - accuracy: 0.9934 - val_loss: 0.4408 - val_accuracy: 0.8845\n",
            "Epoch 33/400\n",
            "53/53 [==============================] - 6s 122ms/step - loss: 0.0289 - accuracy: 0.9906 - val_loss: 0.4447 - val_accuracy: 0.8793\n",
            "Epoch 34/400\n",
            "53/53 [==============================] - 6s 122ms/step - loss: 0.0239 - accuracy: 0.9931 - val_loss: 0.5217 - val_accuracy: 0.8677\n",
            "Epoch 35/400\n",
            "53/53 [==============================] - 6s 122ms/step - loss: 0.0196 - accuracy: 0.9941 - val_loss: 0.4379 - val_accuracy: 0.8787\n",
            "Epoch 36/400\n",
            "53/53 [==============================] - 6s 121ms/step - loss: 0.0191 - accuracy: 0.9947 - val_loss: 0.4647 - val_accuracy: 0.8813\n",
            "Epoch 37/400\n",
            "53/53 [==============================] - 6s 121ms/step - loss: 0.0146 - accuracy: 0.9965 - val_loss: 0.4562 - val_accuracy: 0.8843\n",
            "Epoch 38/400\n",
            "53/53 [==============================] - 6s 121ms/step - loss: 0.0132 - accuracy: 0.9970 - val_loss: 0.4733 - val_accuracy: 0.8822\n",
            "Epoch 39/400\n",
            "53/53 [==============================] - 6s 121ms/step - loss: 0.0167 - accuracy: 0.9952 - val_loss: 0.5471 - val_accuracy: 0.8713\n",
            "Epoch 40/400\n",
            "53/53 [==============================] - 6s 121ms/step - loss: 0.0189 - accuracy: 0.9946 - val_loss: 0.4737 - val_accuracy: 0.8810\n",
            "Epoch 41/400\n",
            "53/53 [==============================] - 6s 121ms/step - loss: 0.0151 - accuracy: 0.9955 - val_loss: 0.4919 - val_accuracy: 0.8782\n",
            "Epoch 42/400\n",
            "53/53 [==============================] - 6s 121ms/step - loss: 0.0208 - accuracy: 0.9937 - val_loss: 0.4980 - val_accuracy: 0.8795\n",
            "Epoch 43/400\n",
            "53/53 [==============================] - 6s 121ms/step - loss: 0.0114 - accuracy: 0.9971 - val_loss: 0.5020 - val_accuracy: 0.8787\n",
            "Epoch 44/400\n",
            "53/53 [==============================] - 6s 121ms/step - loss: 0.0099 - accuracy: 0.9976 - val_loss: 0.5534 - val_accuracy: 0.8695\n",
            "Epoch 45/400\n",
            "53/53 [==============================] - 6s 121ms/step - loss: 0.0108 - accuracy: 0.9972 - val_loss: 0.5065 - val_accuracy: 0.8772\n",
            "Epoch 46/400\n",
            "53/53 [==============================] - 6s 121ms/step - loss: 0.0182 - accuracy: 0.9943 - val_loss: 0.5266 - val_accuracy: 0.8717\n",
            "Epoch 47/400\n",
            "53/53 [==============================] - 6s 121ms/step - loss: 0.0167 - accuracy: 0.9948 - val_loss: 0.5656 - val_accuracy: 0.8720\n",
            "Epoch 48/400\n",
            "53/53 [==============================] - 6s 121ms/step - loss: 0.0100 - accuracy: 0.9974 - val_loss: 0.5305 - val_accuracy: 0.8810\n",
            "Epoch 49/400\n",
            "53/53 [==============================] - 6s 121ms/step - loss: 0.0096 - accuracy: 0.9974 - val_loss: 0.5295 - val_accuracy: 0.8790\n",
            "Epoch 50/400\n",
            "53/53 [==============================] - 6s 121ms/step - loss: 0.0095 - accuracy: 0.9974 - val_loss: 0.5470 - val_accuracy: 0.8793\n",
            "Epoch 51/400\n",
            "53/53 [==============================] - 6s 121ms/step - loss: 0.0095 - accuracy: 0.9972 - val_loss: 0.5663 - val_accuracy: 0.8752\n",
            "Epoch 52/400\n",
            "53/53 [==============================] - 6s 121ms/step - loss: 0.0109 - accuracy: 0.9971 - val_loss: 0.5738 - val_accuracy: 0.8760\n",
            "Epoch 53/400\n",
            "53/53 [==============================] - 6s 122ms/step - loss: 0.0070 - accuracy: 0.9983 - val_loss: 0.5537 - val_accuracy: 0.8785\n",
            "Epoch 54/400\n",
            "53/53 [==============================] - 6s 121ms/step - loss: 0.0091 - accuracy: 0.9974 - val_loss: 0.5492 - val_accuracy: 0.8770\n",
            "Epoch 55/400\n",
            "53/53 [==============================] - 6s 121ms/step - loss: 0.0133 - accuracy: 0.9956 - val_loss: 0.5556 - val_accuracy: 0.8785\n",
            "Epoch 56/400\n",
            "53/53 [==============================] - 6s 121ms/step - loss: 0.0126 - accuracy: 0.9960 - val_loss: 0.5787 - val_accuracy: 0.8785\n",
            "Epoch 57/400\n",
            "53/53 [==============================] - 6s 122ms/step - loss: 0.0076 - accuracy: 0.9979 - val_loss: 0.5967 - val_accuracy: 0.8787\n",
            "Epoch 58/400\n",
            "53/53 [==============================] - 6s 121ms/step - loss: 0.0076 - accuracy: 0.9977 - val_loss: 0.5921 - val_accuracy: 0.8778\n",
            "Epoch 59/400\n",
            "53/53 [==============================] - 6s 122ms/step - loss: 0.0116 - accuracy: 0.9962 - val_loss: 0.5830 - val_accuracy: 0.8745\n",
            "Epoch 60/400\n",
            "53/53 [==============================] - 6s 122ms/step - loss: 0.0097 - accuracy: 0.9971 - val_loss: 0.5996 - val_accuracy: 0.8762\n",
            "Epoch 61/400\n",
            "53/53 [==============================] - 6s 122ms/step - loss: 0.0085 - accuracy: 0.9974 - val_loss: 0.7644 - val_accuracy: 0.8582\n",
            "Epoch 62/400\n",
            "53/53 [==============================] - 6s 121ms/step - loss: 0.0120 - accuracy: 0.9964 - val_loss: 0.6138 - val_accuracy: 0.8755\n",
            "Epoch 63/400\n",
            "53/53 [==============================] - 6s 122ms/step - loss: 0.0115 - accuracy: 0.9968 - val_loss: 0.6082 - val_accuracy: 0.8733\n",
            "Epoch 64/400\n",
            "53/53 [==============================] - 6s 122ms/step - loss: 0.0099 - accuracy: 0.9972 - val_loss: 0.6939 - val_accuracy: 0.8640\n",
            "Epoch 65/400\n",
            "53/53 [==============================] - 6s 122ms/step - loss: 0.0069 - accuracy: 0.9980 - val_loss: 0.6151 - val_accuracy: 0.8817\n",
            "Epoch 66/400\n",
            "53/53 [==============================] - 6s 122ms/step - loss: 0.0065 - accuracy: 0.9981 - val_loss: 0.6569 - val_accuracy: 0.8728\n",
            "Epoch 67/400\n",
            "53/53 [==============================] - 6s 122ms/step - loss: 0.0056 - accuracy: 0.9985 - val_loss: 0.6513 - val_accuracy: 0.8760\n",
            "Epoch 68/400\n",
            "53/53 [==============================] - 6s 121ms/step - loss: 0.0100 - accuracy: 0.9969 - val_loss: 0.6360 - val_accuracy: 0.8797\n",
            "Epoch 69/400\n",
            "53/53 [==============================] - 6s 121ms/step - loss: 0.0092 - accuracy: 0.9971 - val_loss: 0.7128 - val_accuracy: 0.8602\n",
            "Epoch 70/400\n",
            "53/53 [==============================] - 6s 121ms/step - loss: 0.0127 - accuracy: 0.9959 - val_loss: 0.6650 - val_accuracy: 0.8738\n",
            "Epoch 71/400\n",
            "53/53 [==============================] - 6s 122ms/step - loss: 0.0152 - accuracy: 0.9949 - val_loss: 0.6666 - val_accuracy: 0.8743\n",
            "Epoch 72/400\n",
            "53/53 [==============================] - 6s 122ms/step - loss: 0.0073 - accuracy: 0.9977 - val_loss: 0.6796 - val_accuracy: 0.8722\n",
            "Epoch 73/400\n",
            "53/53 [==============================] - 6s 121ms/step - loss: 0.0085 - accuracy: 0.9976 - val_loss: 0.6790 - val_accuracy: 0.8763\n",
            "Epoch 74/400\n",
            "53/53 [==============================] - 6s 122ms/step - loss: 0.0076 - accuracy: 0.9979 - val_loss: 0.6391 - val_accuracy: 0.8770\n",
            "Epoch 75/400\n",
            "53/53 [==============================] - 6s 121ms/step - loss: 0.0091 - accuracy: 0.9969 - val_loss: 0.6514 - val_accuracy: 0.8755\n",
            "Epoch 76/400\n",
            "53/53 [==============================] - 6s 122ms/step - loss: 0.0210 - accuracy: 0.9932 - val_loss: 0.6310 - val_accuracy: 0.8750\n",
            "Epoch 77/400\n",
            "53/53 [==============================] - 6s 121ms/step - loss: 0.0113 - accuracy: 0.9966 - val_loss: 0.6361 - val_accuracy: 0.8745\n",
            "Epoch 78/400\n",
            "53/53 [==============================] - 6s 121ms/step - loss: 0.0070 - accuracy: 0.9978 - val_loss: 0.7118 - val_accuracy: 0.8735\n",
            "Epoch 79/400\n",
            "53/53 [==============================] - 6s 121ms/step - loss: 0.0083 - accuracy: 0.9977 - val_loss: 0.6381 - val_accuracy: 0.8777\n",
            "Epoch 80/400\n",
            "53/53 [==============================] - 6s 121ms/step - loss: 0.0069 - accuracy: 0.9981 - val_loss: 0.7214 - val_accuracy: 0.8678\n",
            "Epoch 81/400\n",
            "53/53 [==============================] - 6s 121ms/step - loss: 0.0065 - accuracy: 0.9980 - val_loss: 0.6822 - val_accuracy: 0.8742\n",
            "Epoch 82/400\n",
            "53/53 [==============================] - 6s 121ms/step - loss: 0.0056 - accuracy: 0.9982 - val_loss: 0.7841 - val_accuracy: 0.8610\n",
            "Epoch 83/400\n",
            "53/53 [==============================] - 6s 121ms/step - loss: 0.0190 - accuracy: 0.9936 - val_loss: 0.8147 - val_accuracy: 0.8552\n",
            "Epoch 84/400\n",
            "53/53 [==============================] - 6s 121ms/step - loss: 0.0116 - accuracy: 0.9961 - val_loss: 0.6632 - val_accuracy: 0.8738\n",
            "Epoch 85/400\n",
            "53/53 [==============================] - 6s 121ms/step - loss: 0.0120 - accuracy: 0.9959 - val_loss: 0.7219 - val_accuracy: 0.8692\n",
            "Epoch 86/400\n",
            "53/53 [==============================] - 6s 121ms/step - loss: 0.0064 - accuracy: 0.9980 - val_loss: 0.6788 - val_accuracy: 0.8750\n",
            "Epoch 87/400\n",
            "53/53 [==============================] - 6s 121ms/step - loss: 0.0029 - accuracy: 0.9993 - val_loss: 0.6933 - val_accuracy: 0.8787\n",
            "Epoch 88/400\n",
            "53/53 [==============================] - 6s 121ms/step - loss: 0.0024 - accuracy: 0.9993 - val_loss: 0.6905 - val_accuracy: 0.8812\n",
            "Epoch 89/400\n",
            "53/53 [==============================] - 6s 121ms/step - loss: 0.0020 - accuracy: 0.9995 - val_loss: 0.7516 - val_accuracy: 0.8767\n",
            "Epoch 90/400\n",
            "53/53 [==============================] - 6s 121ms/step - loss: 0.0024 - accuracy: 0.9993 - val_loss: 0.7763 - val_accuracy: 0.8733\n",
            "Epoch 91/400\n",
            "53/53 [==============================] - 6s 122ms/step - loss: 0.0031 - accuracy: 0.9990 - val_loss: 0.7183 - val_accuracy: 0.8750\n",
            "Epoch 92/400\n",
            "53/53 [==============================] - 6s 121ms/step - loss: 0.0038 - accuracy: 0.9990 - val_loss: 0.7312 - val_accuracy: 0.8783\n",
            "Epoch 93/400\n",
            "53/53 [==============================] - 6s 122ms/step - loss: 0.0040 - accuracy: 0.9990 - val_loss: 0.7399 - val_accuracy: 0.8768\n",
            "Epoch 94/400\n",
            "53/53 [==============================] - 6s 121ms/step - loss: 0.0093 - accuracy: 0.9970 - val_loss: 0.7258 - val_accuracy: 0.8703\n",
            "Epoch 95/400\n",
            "53/53 [==============================] - 6s 121ms/step - loss: 0.0094 - accuracy: 0.9969 - val_loss: 0.7402 - val_accuracy: 0.8658\n",
            "Epoch 96/400\n",
            "53/53 [==============================] - 6s 121ms/step - loss: 0.0077 - accuracy: 0.9975 - val_loss: 0.6977 - val_accuracy: 0.8748\n",
            "Epoch 97/400\n",
            "53/53 [==============================] - 6s 121ms/step - loss: 0.0055 - accuracy: 0.9983 - val_loss: 0.6623 - val_accuracy: 0.8788\n",
            "Epoch 98/400\n",
            "53/53 [==============================] - 6s 121ms/step - loss: 0.0056 - accuracy: 0.9982 - val_loss: 0.6952 - val_accuracy: 0.8750\n",
            "Epoch 99/400\n",
            "53/53 [==============================] - 6s 122ms/step - loss: 0.0058 - accuracy: 0.9982 - val_loss: 0.7515 - val_accuracy: 0.8703\n",
            "Epoch 100/400\n",
            "53/53 [==============================] - 6s 122ms/step - loss: 0.0083 - accuracy: 0.9972 - val_loss: 0.7579 - val_accuracy: 0.8682\n",
            "Epoch 101/400\n",
            "53/53 [==============================] - 6s 122ms/step - loss: 0.0107 - accuracy: 0.9966 - val_loss: 0.6960 - val_accuracy: 0.8772\n",
            "Epoch 102/400\n",
            "53/53 [==============================] - 6s 122ms/step - loss: 0.0033 - accuracy: 0.9990 - val_loss: 0.8203 - val_accuracy: 0.8727\n",
            "Epoch 103/400\n",
            "53/53 [==============================] - 6s 122ms/step - loss: 0.0040 - accuracy: 0.9988 - val_loss: 0.7277 - val_accuracy: 0.8703\n",
            "Epoch 104/400\n",
            "53/53 [==============================] - 6s 122ms/step - loss: 0.0043 - accuracy: 0.9987 - val_loss: 0.7802 - val_accuracy: 0.8693\n",
            "Epoch 105/400\n",
            "53/53 [==============================] - 6s 122ms/step - loss: 0.0090 - accuracy: 0.9970 - val_loss: 0.7978 - val_accuracy: 0.8645\n",
            "Epoch 106/400\n",
            "53/53 [==============================] - 6s 122ms/step - loss: 0.0066 - accuracy: 0.9977 - val_loss: 0.8404 - val_accuracy: 0.8625\n",
            "Epoch 107/400\n",
            "53/53 [==============================] - 6s 122ms/step - loss: 0.0164 - accuracy: 0.9944 - val_loss: 0.8344 - val_accuracy: 0.8590\n",
            "Epoch 108/400\n",
            "53/53 [==============================] - 6s 121ms/step - loss: 0.0210 - accuracy: 0.9926 - val_loss: 0.6720 - val_accuracy: 0.8733\n",
            "Epoch 109/400\n",
            "53/53 [==============================] - 6s 121ms/step - loss: 0.0149 - accuracy: 0.9946 - val_loss: 0.7732 - val_accuracy: 0.8678\n",
            "Epoch 110/400\n",
            "53/53 [==============================] - 6s 122ms/step - loss: 0.0098 - accuracy: 0.9968 - val_loss: 0.7181 - val_accuracy: 0.8710\n",
            "Epoch 111/400\n",
            "53/53 [==============================] - 6s 122ms/step - loss: 0.0070 - accuracy: 0.9976 - val_loss: 0.7466 - val_accuracy: 0.8727\n",
            "Epoch 112/400\n",
            "53/53 [==============================] - 6s 121ms/step - loss: 0.0034 - accuracy: 0.9990 - val_loss: 0.7520 - val_accuracy: 0.8757\n",
            "Epoch 113/400\n",
            "53/53 [==============================] - 6s 122ms/step - loss: 0.0040 - accuracy: 0.9986 - val_loss: 0.7475 - val_accuracy: 0.8750\n",
            "Epoch 114/400\n",
            "53/53 [==============================] - 6s 122ms/step - loss: 0.0029 - accuracy: 0.9992 - val_loss: 0.8098 - val_accuracy: 0.8758\n",
            "Epoch 115/400\n",
            "53/53 [==============================] - 6s 122ms/step - loss: 0.0033 - accuracy: 0.9991 - val_loss: 0.9102 - val_accuracy: 0.8585\n",
            "Epoch 116/400\n",
            "53/53 [==============================] - 6s 121ms/step - loss: 0.0028 - accuracy: 0.9991 - val_loss: 0.7957 - val_accuracy: 0.8693\n",
            "Epoch 117/400\n",
            "53/53 [==============================] - 6s 122ms/step - loss: 0.0029 - accuracy: 0.9991 - val_loss: 0.7483 - val_accuracy: 0.8763\n",
            "Epoch 118/400\n",
            "53/53 [==============================] - 6s 122ms/step - loss: 0.0021 - accuracy: 0.9995 - val_loss: 0.7844 - val_accuracy: 0.8700\n",
            "Epoch 119/400\n",
            "53/53 [==============================] - 6s 121ms/step - loss: 0.0061 - accuracy: 0.9980 - val_loss: 0.7497 - val_accuracy: 0.8720\n",
            "Epoch 120/400\n",
            "53/53 [==============================] - 6s 121ms/step - loss: 0.0082 - accuracy: 0.9974 - val_loss: 1.0339 - val_accuracy: 0.8432\n",
            "Epoch 121/400\n",
            "53/53 [==============================] - 6s 121ms/step - loss: 0.0106 - accuracy: 0.9963 - val_loss: 0.7719 - val_accuracy: 0.8692\n",
            "Epoch 122/400\n",
            "53/53 [==============================] - 6s 121ms/step - loss: 0.0103 - accuracy: 0.9965 - val_loss: 0.8231 - val_accuracy: 0.8660\n",
            "Epoch 123/400\n",
            "53/53 [==============================] - 6s 121ms/step - loss: 0.0103 - accuracy: 0.9966 - val_loss: 0.7633 - val_accuracy: 0.8675\n",
            "Epoch 124/400\n",
            "53/53 [==============================] - 6s 121ms/step - loss: 0.0045 - accuracy: 0.9985 - val_loss: 1.2154 - val_accuracy: 0.8345\n",
            "Epoch 125/400\n",
            "53/53 [==============================] - 6s 121ms/step - loss: 0.0081 - accuracy: 0.9973 - val_loss: 0.7785 - val_accuracy: 0.8673\n",
            "Epoch 126/400\n",
            "53/53 [==============================] - 6s 121ms/step - loss: 0.0054 - accuracy: 0.9984 - val_loss: 0.7816 - val_accuracy: 0.8680\n",
            "Epoch 127/400\n",
            "53/53 [==============================] - 6s 121ms/step - loss: 0.0034 - accuracy: 0.9989 - val_loss: 0.7921 - val_accuracy: 0.8747\n",
            "Epoch 128/400\n",
            "53/53 [==============================] - 6s 121ms/step - loss: 0.0036 - accuracy: 0.9988 - val_loss: 0.7726 - val_accuracy: 0.8777\n",
            "Epoch 129/400\n",
            "53/53 [==============================] - 6s 121ms/step - loss: 0.0055 - accuracy: 0.9982 - val_loss: 0.7721 - val_accuracy: 0.8718\n",
            "Epoch 130/400\n",
            "53/53 [==============================] - 6s 121ms/step - loss: 0.0064 - accuracy: 0.9980 - val_loss: 0.8504 - val_accuracy: 0.8565\n",
            "Epoch 131/400\n",
            "53/53 [==============================] - 6s 121ms/step - loss: 0.0052 - accuracy: 0.9984 - val_loss: 0.8021 - val_accuracy: 0.8745\n",
            "Epoch 132/400\n",
            "53/53 [==============================] - 6s 121ms/step - loss: 0.0072 - accuracy: 0.9979 - val_loss: 0.7414 - val_accuracy: 0.8695\n",
            "Epoch 133/400\n",
            "53/53 [==============================] - 6s 122ms/step - loss: 0.0041 - accuracy: 0.9988 - val_loss: 0.7778 - val_accuracy: 0.8788\n",
            "Epoch 134/400\n",
            "53/53 [==============================] - 6s 121ms/step - loss: 0.0024 - accuracy: 0.9993 - val_loss: 0.7833 - val_accuracy: 0.8748\n",
            "Epoch 135/400\n",
            "53/53 [==============================] - 6s 121ms/step - loss: 0.0020 - accuracy: 0.9994 - val_loss: 0.8963 - val_accuracy: 0.8703\n",
            "Epoch 136/400\n",
            "53/53 [==============================] - 6s 122ms/step - loss: 0.0028 - accuracy: 0.9991 - val_loss: 0.8802 - val_accuracy: 0.8730\n",
            "Epoch 137/400\n",
            "53/53 [==============================] - 6s 121ms/step - loss: 0.0055 - accuracy: 0.9982 - val_loss: 0.8202 - val_accuracy: 0.8760\n",
            "Epoch 138/400\n",
            "53/53 [==============================] - 6s 121ms/step - loss: 0.0042 - accuracy: 0.9987 - val_loss: 0.7791 - val_accuracy: 0.8758\n",
            "Epoch 139/400\n",
            "53/53 [==============================] - 6s 121ms/step - loss: 0.0052 - accuracy: 0.9983 - val_loss: 0.9139 - val_accuracy: 0.8617\n",
            "Epoch 140/400\n",
            "53/53 [==============================] - 6s 121ms/step - loss: 0.0067 - accuracy: 0.9979 - val_loss: 0.9456 - val_accuracy: 0.8598\n",
            "Epoch 141/400\n",
            "53/53 [==============================] - 6s 121ms/step - loss: 0.0149 - accuracy: 0.9948 - val_loss: 0.8665 - val_accuracy: 0.8617\n",
            "Epoch 142/400\n",
            "53/53 [==============================] - 6s 121ms/step - loss: 0.0096 - accuracy: 0.9966 - val_loss: 0.8394 - val_accuracy: 0.8643\n",
            "Epoch 143/400\n",
            "53/53 [==============================] - 6s 121ms/step - loss: 0.0133 - accuracy: 0.9955 - val_loss: 0.8645 - val_accuracy: 0.8682\n",
            "Epoch 144/400\n",
            "53/53 [==============================] - 6s 121ms/step - loss: 0.0073 - accuracy: 0.9977 - val_loss: 0.7894 - val_accuracy: 0.8708\n",
            "Epoch 145/400\n",
            "53/53 [==============================] - 6s 121ms/step - loss: 0.0045 - accuracy: 0.9985 - val_loss: 0.7873 - val_accuracy: 0.8743\n",
            "Epoch 146/400\n",
            "53/53 [==============================] - 6s 121ms/step - loss: 0.0030 - accuracy: 0.9990 - val_loss: 0.8496 - val_accuracy: 0.8720\n",
            "Epoch 147/400\n",
            "53/53 [==============================] - 6s 121ms/step - loss: 0.0041 - accuracy: 0.9986 - val_loss: 0.7550 - val_accuracy: 0.8745\n",
            "Epoch 148/400\n",
            "53/53 [==============================] - 6s 121ms/step - loss: 0.0035 - accuracy: 0.9989 - val_loss: 0.7938 - val_accuracy: 0.8795\n",
            "Epoch 149/400\n",
            "53/53 [==============================] - 6s 121ms/step - loss: 0.0030 - accuracy: 0.9991 - val_loss: 0.8350 - val_accuracy: 0.8722\n",
            "Epoch 150/400\n",
            "53/53 [==============================] - 6s 121ms/step - loss: 0.0058 - accuracy: 0.9980 - val_loss: 0.8598 - val_accuracy: 0.8658\n",
            "Epoch 151/400\n",
            "53/53 [==============================] - 6s 121ms/step - loss: 0.0043 - accuracy: 0.9986 - val_loss: 0.9746 - val_accuracy: 0.8633\n",
            "Epoch 152/400\n",
            "53/53 [==============================] - 6s 121ms/step - loss: 0.0055 - accuracy: 0.9981 - val_loss: 0.9164 - val_accuracy: 0.8628\n",
            "Epoch 153/400\n",
            "53/53 [==============================] - 6s 122ms/step - loss: 0.0078 - accuracy: 0.9975 - val_loss: 0.8227 - val_accuracy: 0.8732\n",
            "Epoch 154/400\n",
            "53/53 [==============================] - 6s 121ms/step - loss: 0.0105 - accuracy: 0.9966 - val_loss: 0.8268 - val_accuracy: 0.8723\n",
            "Epoch 155/400\n",
            "53/53 [==============================] - 6s 122ms/step - loss: 0.0076 - accuracy: 0.9975 - val_loss: 0.8497 - val_accuracy: 0.8688\n",
            "Epoch 156/400\n",
            "53/53 [==============================] - 6s 121ms/step - loss: 0.0039 - accuracy: 0.9986 - val_loss: 0.8595 - val_accuracy: 0.8683\n",
            "Epoch 157/400\n",
            "53/53 [==============================] - 6s 121ms/step - loss: 0.0067 - accuracy: 0.9978 - val_loss: 0.7892 - val_accuracy: 0.8747\n",
            "Epoch 158/400\n",
            "53/53 [==============================] - 6s 121ms/step - loss: 0.0059 - accuracy: 0.9980 - val_loss: 0.8349 - val_accuracy: 0.8737\n",
            "Epoch 159/400\n",
            "53/53 [==============================] - 6s 122ms/step - loss: 0.0050 - accuracy: 0.9984 - val_loss: 0.8460 - val_accuracy: 0.8690\n",
            "Epoch 160/400\n",
            "53/53 [==============================] - 6s 121ms/step - loss: 0.0068 - accuracy: 0.9976 - val_loss: 0.8330 - val_accuracy: 0.8735\n",
            "Epoch 161/400\n",
            "53/53 [==============================] - 6s 121ms/step - loss: 0.0066 - accuracy: 0.9977 - val_loss: 0.7945 - val_accuracy: 0.8750\n",
            "Epoch 162/400\n",
            "53/53 [==============================] - 6s 122ms/step - loss: 0.0034 - accuracy: 0.9991 - val_loss: 0.8298 - val_accuracy: 0.8707\n",
            "Epoch 163/400\n",
            "53/53 [==============================] - 6s 121ms/step - loss: 0.0037 - accuracy: 0.9989 - val_loss: 0.8414 - val_accuracy: 0.8742\n",
            "Epoch 164/400\n",
            "53/53 [==============================] - 6s 121ms/step - loss: 0.0024 - accuracy: 0.9993 - val_loss: 0.8810 - val_accuracy: 0.8720\n",
            "Epoch 165/400\n",
            "53/53 [==============================] - 6s 122ms/step - loss: 0.0041 - accuracy: 0.9987 - val_loss: 0.7983 - val_accuracy: 0.8760\n",
            "Epoch 166/400\n",
            "53/53 [==============================] - 6s 122ms/step - loss: 0.0027 - accuracy: 0.9991 - val_loss: 0.8505 - val_accuracy: 0.8742\n",
            "Epoch 167/400\n",
            "53/53 [==============================] - 6s 122ms/step - loss: 0.0019 - accuracy: 0.9995 - val_loss: 0.8706 - val_accuracy: 0.8748\n",
            "Epoch 168/400\n",
            "53/53 [==============================] - 6s 122ms/step - loss: 0.0031 - accuracy: 0.9989 - val_loss: 0.9103 - val_accuracy: 0.8677\n",
            "Epoch 169/400\n",
            "53/53 [==============================] - 6s 122ms/step - loss: 0.0026 - accuracy: 0.9991 - val_loss: 0.9049 - val_accuracy: 0.8753\n",
            "Epoch 170/400\n",
            "53/53 [==============================] - 6s 122ms/step - loss: 0.0061 - accuracy: 0.9981 - val_loss: 0.8852 - val_accuracy: 0.8700\n",
            "Epoch 171/400\n",
            "53/53 [==============================] - 6s 122ms/step - loss: 0.0047 - accuracy: 0.9985 - val_loss: 0.8834 - val_accuracy: 0.8648\n",
            "Epoch 172/400\n",
            "53/53 [==============================] - 6s 122ms/step - loss: 0.0030 - accuracy: 0.9992 - val_loss: 0.8455 - val_accuracy: 0.8767\n",
            "Epoch 173/400\n",
            "53/53 [==============================] - 6s 122ms/step - loss: 0.0019 - accuracy: 0.9994 - val_loss: 0.9495 - val_accuracy: 0.8700\n",
            "Epoch 174/400\n",
            "53/53 [==============================] - 6s 122ms/step - loss: 0.0036 - accuracy: 0.9986 - val_loss: 1.0375 - val_accuracy: 0.8535\n",
            "Epoch 175/400\n",
            "53/53 [==============================] - 6s 122ms/step - loss: 0.0101 - accuracy: 0.9966 - val_loss: 0.8507 - val_accuracy: 0.8645\n",
            "Epoch 176/400\n",
            "53/53 [==============================] - 6s 121ms/step - loss: 0.0113 - accuracy: 0.9963 - val_loss: 0.9140 - val_accuracy: 0.8687\n",
            "Epoch 177/400\n",
            "53/53 [==============================] - 6s 121ms/step - loss: 0.0073 - accuracy: 0.9976 - val_loss: 0.8121 - val_accuracy: 0.8675\n",
            "Epoch 178/400\n",
            "53/53 [==============================] - 6s 121ms/step - loss: 0.0049 - accuracy: 0.9984 - val_loss: 0.9458 - val_accuracy: 0.8707\n",
            "Epoch 179/400\n",
            "53/53 [==============================] - 6s 121ms/step - loss: 0.0030 - accuracy: 0.9990 - val_loss: 0.8607 - val_accuracy: 0.8747\n",
            "Epoch 180/400\n",
            "53/53 [==============================] - 6s 120ms/step - loss: 0.0067 - accuracy: 0.9980 - val_loss: 0.8165 - val_accuracy: 0.8712\n",
            "Epoch 181/400\n",
            "53/53 [==============================] - 6s 121ms/step - loss: 0.0044 - accuracy: 0.9986 - val_loss: 0.8899 - val_accuracy: 0.8767\n",
            "Epoch 182/400\n",
            "53/53 [==============================] - 6s 121ms/step - loss: 0.0035 - accuracy: 0.9990 - val_loss: 0.8841 - val_accuracy: 0.8725\n",
            "Epoch 183/400\n",
            "53/53 [==============================] - 6s 121ms/step - loss: 0.0036 - accuracy: 0.9989 - val_loss: 0.8358 - val_accuracy: 0.8760\n",
            "Epoch 184/400\n",
            "53/53 [==============================] - 6s 121ms/step - loss: 0.0026 - accuracy: 0.9992 - val_loss: 0.9447 - val_accuracy: 0.8738\n",
            "Epoch 185/400\n",
            "53/53 [==============================] - 6s 121ms/step - loss: 0.0035 - accuracy: 0.9988 - val_loss: 0.9796 - val_accuracy: 0.8630\n",
            "Epoch 186/400\n",
            "53/53 [==============================] - 6s 121ms/step - loss: 0.0031 - accuracy: 0.9989 - val_loss: 0.9086 - val_accuracy: 0.8678\n",
            "Epoch 187/400\n",
            "53/53 [==============================] - 6s 121ms/step - loss: 0.0059 - accuracy: 0.9981 - val_loss: 0.8554 - val_accuracy: 0.8702\n",
            "Epoch 188/400\n",
            "53/53 [==============================] - 6s 120ms/step - loss: 0.0082 - accuracy: 0.9972 - val_loss: 0.8682 - val_accuracy: 0.8715\n",
            "Epoch 189/400\n",
            "53/53 [==============================] - 6s 120ms/step - loss: 0.0068 - accuracy: 0.9976 - val_loss: 0.8481 - val_accuracy: 0.8652\n",
            "Epoch 190/400\n",
            "53/53 [==============================] - 6s 121ms/step - loss: 0.0057 - accuracy: 0.9981 - val_loss: 0.9131 - val_accuracy: 0.8637\n",
            "Epoch 191/400\n",
            "53/53 [==============================] - 6s 121ms/step - loss: 0.0143 - accuracy: 0.9954 - val_loss: 0.8052 - val_accuracy: 0.8678\n",
            "Epoch 192/400\n",
            "53/53 [==============================] - 6s 121ms/step - loss: 0.0083 - accuracy: 0.9973 - val_loss: 0.9003 - val_accuracy: 0.8603\n",
            "Epoch 193/400\n",
            "53/53 [==============================] - 6s 121ms/step - loss: 0.0034 - accuracy: 0.9990 - val_loss: 0.8163 - val_accuracy: 0.8780\n",
            "Epoch 194/400\n",
            "53/53 [==============================] - 6s 122ms/step - loss: 0.0030 - accuracy: 0.9990 - val_loss: 0.8760 - val_accuracy: 0.8758\n",
            "Epoch 195/400\n",
            "53/53 [==============================] - 6s 122ms/step - loss: 0.0052 - accuracy: 0.9981 - val_loss: 0.9479 - val_accuracy: 0.8722\n",
            "Epoch 196/400\n",
            "53/53 [==============================] - 6s 122ms/step - loss: 0.0062 - accuracy: 0.9980 - val_loss: 0.8723 - val_accuracy: 0.8677\n",
            "Epoch 197/400\n",
            "53/53 [==============================] - 6s 122ms/step - loss: 0.0042 - accuracy: 0.9987 - val_loss: 0.9044 - val_accuracy: 0.8752\n",
            "Epoch 198/400\n",
            "53/53 [==============================] - 6s 121ms/step - loss: 0.0024 - accuracy: 0.9994 - val_loss: 1.0220 - val_accuracy: 0.8610\n",
            "Epoch 199/400\n",
            "53/53 [==============================] - 6s 121ms/step - loss: 0.0024 - accuracy: 0.9993 - val_loss: 0.9432 - val_accuracy: 0.8743\n",
            "Epoch 200/400\n",
            "53/53 [==============================] - 6s 121ms/step - loss: 0.0022 - accuracy: 0.9992 - val_loss: 0.9254 - val_accuracy: 0.8798\n",
            "Epoch 201/400\n",
            "53/53 [==============================] - 6s 121ms/step - loss: 0.0030 - accuracy: 0.9991 - val_loss: 0.9336 - val_accuracy: 0.8690\n",
            "Epoch 202/400\n",
            "53/53 [==============================] - 6s 121ms/step - loss: 0.0026 - accuracy: 0.9990 - val_loss: 0.9268 - val_accuracy: 0.8782\n",
            "Epoch 203/400\n",
            "53/53 [==============================] - 6s 121ms/step - loss: 0.0025 - accuracy: 0.9993 - val_loss: 0.9104 - val_accuracy: 0.8735\n",
            "Epoch 204/400\n",
            "53/53 [==============================] - 6s 122ms/step - loss: 0.0034 - accuracy: 0.9990 - val_loss: 0.9131 - val_accuracy: 0.8725\n",
            "Epoch 205/400\n",
            "53/53 [==============================] - 6s 121ms/step - loss: 0.0037 - accuracy: 0.9986 - val_loss: 0.9614 - val_accuracy: 0.8695\n",
            "Epoch 206/400\n",
            "53/53 [==============================] - 6s 121ms/step - loss: 0.0061 - accuracy: 0.9981 - val_loss: 0.9317 - val_accuracy: 0.8638\n",
            "Epoch 207/400\n",
            "53/53 [==============================] - 6s 121ms/step - loss: 0.0098 - accuracy: 0.9968 - val_loss: 0.8291 - val_accuracy: 0.8722\n",
            "Epoch 208/400\n",
            "53/53 [==============================] - 6s 122ms/step - loss: 0.0057 - accuracy: 0.9981 - val_loss: 0.8703 - val_accuracy: 0.8715\n",
            "Epoch 209/400\n",
            "53/53 [==============================] - 6s 121ms/step - loss: 0.0060 - accuracy: 0.9979 - val_loss: 0.8941 - val_accuracy: 0.8717\n",
            "Epoch 210/400\n",
            "53/53 [==============================] - 6s 122ms/step - loss: 0.0055 - accuracy: 0.9981 - val_loss: 0.7989 - val_accuracy: 0.8737\n",
            "Epoch 211/400\n",
            "53/53 [==============================] - 6s 122ms/step - loss: 0.0030 - accuracy: 0.9990 - val_loss: 0.9337 - val_accuracy: 0.8683\n",
            "Epoch 212/400\n",
            "53/53 [==============================] - 6s 122ms/step - loss: 0.0032 - accuracy: 0.9990 - val_loss: 0.9353 - val_accuracy: 0.8732\n",
            "Epoch 213/400\n",
            "53/53 [==============================] - 6s 122ms/step - loss: 0.0030 - accuracy: 0.9990 - val_loss: 0.8633 - val_accuracy: 0.8740\n",
            "Epoch 214/400\n",
            "53/53 [==============================] - 6s 121ms/step - loss: 0.0024 - accuracy: 0.9991 - val_loss: 0.9412 - val_accuracy: 0.8735\n",
            "Epoch 215/400\n",
            "53/53 [==============================] - 6s 120ms/step - loss: 0.0022 - accuracy: 0.9994 - val_loss: 1.0092 - val_accuracy: 0.8693\n",
            "Epoch 216/400\n",
            "53/53 [==============================] - 6s 120ms/step - loss: 0.0039 - accuracy: 0.9987 - val_loss: 0.9468 - val_accuracy: 0.8708\n",
            "Epoch 217/400\n",
            "53/53 [==============================] - 6s 120ms/step - loss: 0.0036 - accuracy: 0.9987 - val_loss: 1.0050 - val_accuracy: 0.8617\n",
            "Epoch 218/400\n",
            "53/53 [==============================] - 6s 120ms/step - loss: 0.0038 - accuracy: 0.9988 - val_loss: 0.9837 - val_accuracy: 0.8722\n",
            "Epoch 219/400\n",
            "53/53 [==============================] - 6s 121ms/step - loss: 0.0029 - accuracy: 0.9991 - val_loss: 0.9648 - val_accuracy: 0.8713\n",
            "Epoch 220/400\n",
            "53/53 [==============================] - 6s 121ms/step - loss: 0.0038 - accuracy: 0.9987 - val_loss: 0.9058 - val_accuracy: 0.8727\n",
            "Epoch 221/400\n",
            "53/53 [==============================] - 6s 122ms/step - loss: 0.0028 - accuracy: 0.9991 - val_loss: 0.8529 - val_accuracy: 0.8748\n",
            "Epoch 222/400\n",
            "53/53 [==============================] - 6s 122ms/step - loss: 0.0016 - accuracy: 0.9995 - val_loss: 0.9054 - val_accuracy: 0.8793\n",
            "Epoch 223/400\n",
            "53/53 [==============================] - 6s 122ms/step - loss: 0.0029 - accuracy: 0.9989 - val_loss: 1.0752 - val_accuracy: 0.8600\n",
            "Epoch 224/400\n",
            "53/53 [==============================] - 6s 122ms/step - loss: 0.0046 - accuracy: 0.9984 - val_loss: 1.0247 - val_accuracy: 0.8705\n",
            "Epoch 225/400\n",
            "53/53 [==============================] - 6s 121ms/step - loss: 0.0075 - accuracy: 0.9974 - val_loss: 0.8720 - val_accuracy: 0.8710\n",
            "Epoch 226/400\n",
            "53/53 [==============================] - 6s 121ms/step - loss: 0.0071 - accuracy: 0.9978 - val_loss: 0.8931 - val_accuracy: 0.8615\n",
            "Epoch 227/400\n",
            "53/53 [==============================] - 6s 121ms/step - loss: 0.0070 - accuracy: 0.9977 - val_loss: 0.8831 - val_accuracy: 0.8757\n",
            "Epoch 228/400\n",
            "53/53 [==============================] - 6s 121ms/step - loss: 0.0057 - accuracy: 0.9983 - val_loss: 1.0321 - val_accuracy: 0.8585\n",
            "Epoch 229/400\n",
            "53/53 [==============================] - 6s 121ms/step - loss: 0.0056 - accuracy: 0.9980 - val_loss: 0.9352 - val_accuracy: 0.8660\n",
            "Epoch 230/400\n",
            "53/53 [==============================] - 6s 121ms/step - loss: 0.0042 - accuracy: 0.9987 - val_loss: 0.9073 - val_accuracy: 0.8735\n",
            "Epoch 231/400\n",
            "53/53 [==============================] - 6s 121ms/step - loss: 0.0047 - accuracy: 0.9985 - val_loss: 0.8762 - val_accuracy: 0.8672\n",
            "Epoch 232/400\n",
            "53/53 [==============================] - 6s 121ms/step - loss: 0.0053 - accuracy: 0.9984 - val_loss: 0.8288 - val_accuracy: 0.8703\n",
            "Epoch 233/400\n",
            "53/53 [==============================] - 6s 122ms/step - loss: 0.0027 - accuracy: 0.9991 - val_loss: 0.9187 - val_accuracy: 0.8758\n",
            "Epoch 234/400\n",
            "53/53 [==============================] - 6s 122ms/step - loss: 0.0041 - accuracy: 0.9986 - val_loss: 0.9826 - val_accuracy: 0.8670\n",
            "Epoch 235/400\n",
            "53/53 [==============================] - 6s 121ms/step - loss: 0.0069 - accuracy: 0.9977 - val_loss: 0.9200 - val_accuracy: 0.8727\n",
            "Epoch 236/400\n",
            "53/53 [==============================] - 6s 122ms/step - loss: 0.0085 - accuracy: 0.9970 - val_loss: 0.8456 - val_accuracy: 0.8793\n",
            "Epoch 237/400\n",
            "53/53 [==============================] - 6s 121ms/step - loss: 0.0066 - accuracy: 0.9978 - val_loss: 0.8435 - val_accuracy: 0.8690\n",
            "Epoch 238/400\n",
            "53/53 [==============================] - 6s 121ms/step - loss: 0.0039 - accuracy: 0.9987 - val_loss: 0.9608 - val_accuracy: 0.8677\n",
            "Epoch 239/400\n",
            "53/53 [==============================] - 6s 121ms/step - loss: 0.0032 - accuracy: 0.9989 - val_loss: 0.9245 - val_accuracy: 0.8732\n",
            "Epoch 240/400\n",
            "53/53 [==============================] - 6s 121ms/step - loss: 0.0014 - accuracy: 0.9996 - val_loss: 0.9833 - val_accuracy: 0.8743\n",
            "Epoch 241/400\n",
            "53/53 [==============================] - 6s 121ms/step - loss: 0.0014 - accuracy: 0.9995 - val_loss: 0.9417 - val_accuracy: 0.8763\n",
            "Epoch 242/400\n",
            "53/53 [==============================] - 6s 121ms/step - loss: 0.0018 - accuracy: 0.9995 - val_loss: 1.0303 - val_accuracy: 0.8675\n",
            "Epoch 243/400\n",
            "53/53 [==============================] - 6s 121ms/step - loss: 0.0036 - accuracy: 0.9990 - val_loss: 0.8906 - val_accuracy: 0.8725\n",
            "Epoch 244/400\n",
            "53/53 [==============================] - 6s 121ms/step - loss: 0.0050 - accuracy: 0.9983 - val_loss: 0.9005 - val_accuracy: 0.8745\n",
            "Epoch 245/400\n",
            "53/53 [==============================] - 6s 121ms/step - loss: 0.0022 - accuracy: 0.9992 - val_loss: 0.9595 - val_accuracy: 0.8763\n",
            "Epoch 246/400\n",
            "53/53 [==============================] - 6s 121ms/step - loss: 0.0030 - accuracy: 0.9990 - val_loss: 1.0003 - val_accuracy: 0.8678\n",
            "Epoch 247/400\n",
            "53/53 [==============================] - 6s 121ms/step - loss: 0.0050 - accuracy: 0.9984 - val_loss: 0.9713 - val_accuracy: 0.8702\n",
            "Epoch 248/400\n",
            "53/53 [==============================] - 6s 121ms/step - loss: 0.0042 - accuracy: 0.9986 - val_loss: 0.9342 - val_accuracy: 0.8673\n",
            "Epoch 249/400\n",
            "53/53 [==============================] - 6s 121ms/step - loss: 0.0043 - accuracy: 0.9986 - val_loss: 0.9636 - val_accuracy: 0.8655\n",
            "Epoch 250/400\n",
            "53/53 [==============================] - 6s 121ms/step - loss: 0.0057 - accuracy: 0.9981 - val_loss: 0.9049 - val_accuracy: 0.8660\n",
            "Epoch 251/400\n",
            "53/53 [==============================] - 6s 121ms/step - loss: 0.0036 - accuracy: 0.9987 - val_loss: 0.9174 - val_accuracy: 0.8723\n",
            "Epoch 252/400\n",
            "53/53 [==============================] - 6s 121ms/step - loss: 0.0028 - accuracy: 0.9992 - val_loss: 0.8767 - val_accuracy: 0.8730\n",
            "Epoch 253/400\n",
            "53/53 [==============================] - 6s 122ms/step - loss: 0.0029 - accuracy: 0.9991 - val_loss: 0.8975 - val_accuracy: 0.8770\n",
            "Epoch 254/400\n",
            "53/53 [==============================] - 6s 121ms/step - loss: 0.0027 - accuracy: 0.9992 - val_loss: 0.9606 - val_accuracy: 0.8675\n",
            "Epoch 255/400\n",
            "53/53 [==============================] - 6s 122ms/step - loss: 0.0058 - accuracy: 0.9980 - val_loss: 0.8676 - val_accuracy: 0.8730\n",
            "Epoch 256/400\n",
            "53/53 [==============================] - 6s 121ms/step - loss: 0.0060 - accuracy: 0.9981 - val_loss: 0.9843 - val_accuracy: 0.8692\n",
            "Epoch 257/400\n",
            "53/53 [==============================] - 6s 122ms/step - loss: 0.0040 - accuracy: 0.9986 - val_loss: 1.0010 - val_accuracy: 0.8643\n",
            "Epoch 258/400\n",
            "53/53 [==============================] - 6s 122ms/step - loss: 0.0019 - accuracy: 0.9992 - val_loss: 0.9416 - val_accuracy: 0.8718\n",
            "Epoch 259/400\n",
            "53/53 [==============================] - 6s 122ms/step - loss: 0.0027 - accuracy: 0.9992 - val_loss: 1.3067 - val_accuracy: 0.8532\n",
            "Epoch 260/400\n",
            "53/53 [==============================] - 6s 122ms/step - loss: 0.0054 - accuracy: 0.9981 - val_loss: 0.9984 - val_accuracy: 0.8652\n",
            "Epoch 261/400\n",
            "53/53 [==============================] - 6s 122ms/step - loss: 0.0039 - accuracy: 0.9989 - val_loss: 0.9775 - val_accuracy: 0.8643\n",
            "Epoch 262/400\n",
            "53/53 [==============================] - 6s 121ms/step - loss: 0.0043 - accuracy: 0.9987 - val_loss: 0.9861 - val_accuracy: 0.8625\n",
            "Epoch 263/400\n",
            "53/53 [==============================] - 6s 121ms/step - loss: 0.0025 - accuracy: 0.9992 - val_loss: 0.9461 - val_accuracy: 0.8682\n",
            "Epoch 264/400\n",
            "53/53 [==============================] - 6s 121ms/step - loss: 0.0023 - accuracy: 0.9993 - val_loss: 1.0671 - val_accuracy: 0.8665\n",
            "Epoch 265/400\n",
            "53/53 [==============================] - 6s 122ms/step - loss: 0.0018 - accuracy: 0.9994 - val_loss: 1.0706 - val_accuracy: 0.8652\n",
            "Epoch 266/400\n",
            "53/53 [==============================] - 6s 121ms/step - loss: 0.0018 - accuracy: 0.9994 - val_loss: 1.0442 - val_accuracy: 0.8718\n",
            "Epoch 267/400\n",
            "53/53 [==============================] - 6s 121ms/step - loss: 0.0029 - accuracy: 0.9990 - val_loss: 1.0718 - val_accuracy: 0.8648\n",
            "Epoch 268/400\n",
            "53/53 [==============================] - 6s 121ms/step - loss: 0.0043 - accuracy: 0.9984 - val_loss: 0.9765 - val_accuracy: 0.8737\n",
            "Epoch 269/400\n",
            "53/53 [==============================] - 6s 122ms/step - loss: 0.0068 - accuracy: 0.9978 - val_loss: 0.9629 - val_accuracy: 0.8707\n",
            "Epoch 270/400\n",
            "53/53 [==============================] - 6s 121ms/step - loss: 0.0045 - accuracy: 0.9986 - val_loss: 0.8731 - val_accuracy: 0.8742\n",
            "Epoch 271/400\n",
            "53/53 [==============================] - 6s 121ms/step - loss: 0.0032 - accuracy: 0.9989 - val_loss: 0.9935 - val_accuracy: 0.8662\n",
            "Epoch 272/400\n",
            "53/53 [==============================] - 6s 121ms/step - loss: 0.0058 - accuracy: 0.9982 - val_loss: 1.0972 - val_accuracy: 0.8505\n",
            "Epoch 273/400\n",
            "53/53 [==============================] - 6s 121ms/step - loss: 0.0098 - accuracy: 0.9968 - val_loss: 0.9037 - val_accuracy: 0.8700\n",
            "Epoch 274/400\n",
            "53/53 [==============================] - 6s 121ms/step - loss: 0.0035 - accuracy: 0.9989 - val_loss: 1.0682 - val_accuracy: 0.8600\n",
            "Epoch 275/400\n",
            "53/53 [==============================] - 6s 121ms/step - loss: 0.0026 - accuracy: 0.9991 - val_loss: 0.8978 - val_accuracy: 0.8753\n",
            "Epoch 276/400\n",
            "53/53 [==============================] - 6s 121ms/step - loss: 0.0041 - accuracy: 0.9986 - val_loss: 1.0475 - val_accuracy: 0.8610\n",
            "Epoch 277/400\n",
            "53/53 [==============================] - 6s 121ms/step - loss: 0.0076 - accuracy: 0.9972 - val_loss: 0.9746 - val_accuracy: 0.8633\n",
            "Epoch 278/400\n",
            "53/53 [==============================] - 6s 121ms/step - loss: 0.0033 - accuracy: 0.9987 - val_loss: 0.9218 - val_accuracy: 0.8710\n",
            "Epoch 279/400\n",
            "53/53 [==============================] - 6s 121ms/step - loss: 0.0019 - accuracy: 0.9994 - val_loss: 0.9149 - val_accuracy: 0.8725\n",
            "Epoch 280/400\n",
            "53/53 [==============================] - 6s 121ms/step - loss: 7.4501e-04 - accuracy: 0.9998 - val_loss: 0.9604 - val_accuracy: 0.8765\n",
            "Epoch 281/400\n",
            "53/53 [==============================] - 6s 121ms/step - loss: 8.1230e-04 - accuracy: 0.9997 - val_loss: 1.0025 - val_accuracy: 0.8742\n",
            "Epoch 282/400\n",
            "53/53 [==============================] - 6s 121ms/step - loss: 8.3263e-04 - accuracy: 0.9997 - val_loss: 1.0426 - val_accuracy: 0.8717\n",
            "Epoch 283/400\n",
            "53/53 [==============================] - 6s 121ms/step - loss: 0.0025 - accuracy: 0.9993 - val_loss: 1.0363 - val_accuracy: 0.8623\n",
            "Epoch 284/400\n",
            "53/53 [==============================] - 6s 121ms/step - loss: 0.0059 - accuracy: 0.9984 - val_loss: 1.1794 - val_accuracy: 0.8558\n",
            "Epoch 285/400\n",
            "53/53 [==============================] - 6s 121ms/step - loss: 0.0119 - accuracy: 0.9962 - val_loss: 0.8620 - val_accuracy: 0.8712\n",
            "Epoch 286/400\n",
            "53/53 [==============================] - 6s 122ms/step - loss: 0.0045 - accuracy: 0.9985 - val_loss: 0.8882 - val_accuracy: 0.8712\n",
            "Epoch 287/400\n",
            "53/53 [==============================] - 6s 121ms/step - loss: 0.0047 - accuracy: 0.9985 - val_loss: 0.8891 - val_accuracy: 0.8688\n",
            "Epoch 288/400\n",
            "53/53 [==============================] - 6s 121ms/step - loss: 0.0051 - accuracy: 0.9985 - val_loss: 0.8707 - val_accuracy: 0.8720\n",
            "Epoch 289/400\n",
            "53/53 [==============================] - 6s 121ms/step - loss: 0.0013 - accuracy: 0.9997 - val_loss: 0.9116 - val_accuracy: 0.8712\n",
            "Epoch 290/400\n",
            "53/53 [==============================] - 6s 121ms/step - loss: 5.5774e-04 - accuracy: 0.9999 - val_loss: 0.9144 - val_accuracy: 0.8772\n",
            "Epoch 291/400\n",
            "53/53 [==============================] - 6s 121ms/step - loss: 3.4317e-04 - accuracy: 1.0000 - val_loss: 1.0370 - val_accuracy: 0.8678\n",
            "Epoch 292/400\n",
            "53/53 [==============================] - 6s 121ms/step - loss: 3.2682e-04 - accuracy: 0.9999 - val_loss: 0.9519 - val_accuracy: 0.8742\n",
            "Epoch 293/400\n",
            "53/53 [==============================] - 6s 121ms/step - loss: 0.0011 - accuracy: 0.9997 - val_loss: 0.9791 - val_accuracy: 0.8693\n",
            "Epoch 294/400\n",
            "53/53 [==============================] - 6s 121ms/step - loss: 0.0013 - accuracy: 0.9996 - val_loss: 1.0384 - val_accuracy: 0.8732\n",
            "Epoch 295/400\n",
            "53/53 [==============================] - 6s 121ms/step - loss: 0.0023 - accuracy: 0.9991 - val_loss: 0.9610 - val_accuracy: 0.8710\n",
            "Epoch 296/400\n",
            "53/53 [==============================] - 6s 121ms/step - loss: 0.0026 - accuracy: 0.9993 - val_loss: 0.9432 - val_accuracy: 0.8705\n",
            "Epoch 297/400\n",
            "53/53 [==============================] - 6s 121ms/step - loss: 0.0042 - accuracy: 0.9985 - val_loss: 0.9726 - val_accuracy: 0.8638\n",
            "Epoch 298/400\n",
            "53/53 [==============================] - 6s 121ms/step - loss: 0.0021 - accuracy: 0.9994 - val_loss: 0.9201 - val_accuracy: 0.8760\n",
            "Epoch 299/400\n",
            "53/53 [==============================] - 6s 121ms/step - loss: 0.0032 - accuracy: 0.9990 - val_loss: 1.0744 - val_accuracy: 0.8580\n",
            "Epoch 300/400\n",
            "53/53 [==============================] - 6s 121ms/step - loss: 0.0048 - accuracy: 0.9982 - val_loss: 0.9473 - val_accuracy: 0.8720\n",
            "Epoch 301/400\n",
            "53/53 [==============================] - 6s 121ms/step - loss: 0.0034 - accuracy: 0.9989 - val_loss: 1.1811 - val_accuracy: 0.8555\n",
            "Epoch 302/400\n",
            "53/53 [==============================] - 6s 121ms/step - loss: 0.0017 - accuracy: 0.9995 - val_loss: 0.9968 - val_accuracy: 0.8725\n",
            "Epoch 303/400\n",
            "53/53 [==============================] - 6s 121ms/step - loss: 0.0019 - accuracy: 0.9994 - val_loss: 1.0491 - val_accuracy: 0.8702\n",
            "Epoch 304/400\n",
            "53/53 [==============================] - 6s 121ms/step - loss: 0.0085 - accuracy: 0.9973 - val_loss: 0.8928 - val_accuracy: 0.8663\n",
            "Epoch 305/400\n",
            "53/53 [==============================] - 6s 121ms/step - loss: 0.0043 - accuracy: 0.9984 - val_loss: 0.9072 - val_accuracy: 0.8670\n",
            "Epoch 306/400\n",
            "53/53 [==============================] - 6s 121ms/step - loss: 0.0043 - accuracy: 0.9987 - val_loss: 0.9448 - val_accuracy: 0.8662\n",
            "Epoch 307/400\n",
            "53/53 [==============================] - 6s 121ms/step - loss: 0.0027 - accuracy: 0.9991 - val_loss: 0.9483 - val_accuracy: 0.8655\n",
            "Epoch 308/400\n",
            "53/53 [==============================] - 6s 122ms/step - loss: 0.0029 - accuracy: 0.9989 - val_loss: 0.9082 - val_accuracy: 0.8702\n",
            "Epoch 309/400\n",
            "53/53 [==============================] - 6s 121ms/step - loss: 0.0028 - accuracy: 0.9991 - val_loss: 0.9616 - val_accuracy: 0.8677\n",
            "Epoch 310/400\n",
            "53/53 [==============================] - 6s 122ms/step - loss: 0.0040 - accuracy: 0.9987 - val_loss: 1.0989 - val_accuracy: 0.8560\n",
            "Epoch 311/400\n",
            "53/53 [==============================] - 6s 122ms/step - loss: 0.0029 - accuracy: 0.9990 - val_loss: 1.0688 - val_accuracy: 0.8642\n",
            "Epoch 312/400\n",
            "53/53 [==============================] - 6s 121ms/step - loss: 0.0022 - accuracy: 0.9993 - val_loss: 0.9871 - val_accuracy: 0.8713\n",
            "Epoch 313/400\n",
            "53/53 [==============================] - 6s 121ms/step - loss: 0.0038 - accuracy: 0.9988 - val_loss: 1.0180 - val_accuracy: 0.8638\n",
            "Epoch 314/400\n",
            "53/53 [==============================] - 6s 121ms/step - loss: 0.0030 - accuracy: 0.9990 - val_loss: 0.8988 - val_accuracy: 0.8737\n",
            "Epoch 315/400\n",
            "53/53 [==============================] - 6s 121ms/step - loss: 0.0043 - accuracy: 0.9985 - val_loss: 1.2688 - val_accuracy: 0.8448\n",
            "Epoch 316/400\n",
            "53/53 [==============================] - 6s 122ms/step - loss: 0.0042 - accuracy: 0.9986 - val_loss: 0.9103 - val_accuracy: 0.8725\n",
            "Epoch 317/400\n",
            "53/53 [==============================] - 6s 121ms/step - loss: 0.0018 - accuracy: 0.9993 - val_loss: 0.9900 - val_accuracy: 0.8763\n",
            "Epoch 318/400\n",
            "53/53 [==============================] - 6s 122ms/step - loss: 0.0026 - accuracy: 0.9991 - val_loss: 0.9806 - val_accuracy: 0.8695\n",
            "Epoch 319/400\n",
            "53/53 [==============================] - 6s 121ms/step - loss: 0.0015 - accuracy: 0.9995 - val_loss: 0.9307 - val_accuracy: 0.8760\n",
            "Epoch 320/400\n",
            "53/53 [==============================] - 6s 121ms/step - loss: 0.0023 - accuracy: 0.9993 - val_loss: 0.9751 - val_accuracy: 0.8743\n",
            "Epoch 321/400\n",
            "53/53 [==============================] - 6s 121ms/step - loss: 0.0019 - accuracy: 0.9995 - val_loss: 1.0518 - val_accuracy: 0.8703\n",
            "Epoch 322/400\n",
            "53/53 [==============================] - 6s 121ms/step - loss: 9.8525e-04 - accuracy: 0.9997 - val_loss: 0.9927 - val_accuracy: 0.8707\n",
            "Epoch 323/400\n",
            "53/53 [==============================] - 6s 121ms/step - loss: 0.0014 - accuracy: 0.9996 - val_loss: 1.0370 - val_accuracy: 0.8705\n",
            "Epoch 324/400\n",
            "53/53 [==============================] - 6s 121ms/step - loss: 0.0014 - accuracy: 0.9996 - val_loss: 0.9798 - val_accuracy: 0.8718\n",
            "Epoch 325/400\n",
            "53/53 [==============================] - 6s 121ms/step - loss: 0.0014 - accuracy: 0.9996 - val_loss: 1.0773 - val_accuracy: 0.8707\n",
            "Epoch 326/400\n",
            "53/53 [==============================] - 6s 121ms/step - loss: 0.0021 - accuracy: 0.9994 - val_loss: 0.9939 - val_accuracy: 0.8685\n",
            "Epoch 327/400\n",
            "53/53 [==============================] - 6s 121ms/step - loss: 0.0044 - accuracy: 0.9985 - val_loss: 1.0565 - val_accuracy: 0.8585\n",
            "Epoch 328/400\n",
            "53/53 [==============================] - 6s 121ms/step - loss: 0.0044 - accuracy: 0.9986 - val_loss: 0.9660 - val_accuracy: 0.8703\n",
            "Epoch 329/400\n",
            "53/53 [==============================] - 6s 121ms/step - loss: 0.0044 - accuracy: 0.9984 - val_loss: 0.9618 - val_accuracy: 0.8705\n",
            "Epoch 330/400\n",
            "53/53 [==============================] - 6s 121ms/step - loss: 0.0060 - accuracy: 0.9979 - val_loss: 1.0141 - val_accuracy: 0.8672\n",
            "Epoch 331/400\n",
            "53/53 [==============================] - 6s 121ms/step - loss: 0.0062 - accuracy: 0.9980 - val_loss: 0.9088 - val_accuracy: 0.8705\n",
            "Epoch 332/400\n",
            "53/53 [==============================] - 6s 121ms/step - loss: 0.0066 - accuracy: 0.9978 - val_loss: 1.1565 - val_accuracy: 0.8535\n",
            "Epoch 333/400\n",
            "53/53 [==============================] - 6s 121ms/step - loss: 0.0079 - accuracy: 0.9974 - val_loss: 0.8672 - val_accuracy: 0.8677\n",
            "Epoch 334/400\n",
            "53/53 [==============================] - 6s 121ms/step - loss: 0.0053 - accuracy: 0.9981 - val_loss: 0.9358 - val_accuracy: 0.8705\n",
            "Epoch 335/400\n",
            "53/53 [==============================] - 6s 121ms/step - loss: 0.0022 - accuracy: 0.9993 - val_loss: 0.9577 - val_accuracy: 0.8728\n",
            "Epoch 336/400\n",
            "53/53 [==============================] - 6s 121ms/step - loss: 0.0012 - accuracy: 0.9996 - val_loss: 0.9362 - val_accuracy: 0.8813\n",
            "Epoch 337/400\n",
            "53/53 [==============================] - 6s 121ms/step - loss: 7.2084e-04 - accuracy: 0.9998 - val_loss: 0.9359 - val_accuracy: 0.8748\n",
            "Epoch 338/400\n",
            "53/53 [==============================] - 6s 121ms/step - loss: 7.2550e-04 - accuracy: 0.9998 - val_loss: 0.9902 - val_accuracy: 0.8740\n",
            "Epoch 339/400\n",
            "53/53 [==============================] - 6s 121ms/step - loss: 5.1844e-04 - accuracy: 0.9999 - val_loss: 1.0222 - val_accuracy: 0.8728\n",
            "Epoch 340/400\n",
            "53/53 [==============================] - 6s 121ms/step - loss: 0.0025 - accuracy: 0.9993 - val_loss: 1.0026 - val_accuracy: 0.8667\n",
            "Epoch 341/400\n",
            "53/53 [==============================] - 6s 121ms/step - loss: 0.0022 - accuracy: 0.9993 - val_loss: 1.0043 - val_accuracy: 0.8618\n",
            "Epoch 342/400\n",
            "53/53 [==============================] - 6s 121ms/step - loss: 0.0038 - accuracy: 0.9987 - val_loss: 1.0409 - val_accuracy: 0.8758\n",
            "Epoch 343/400\n",
            "53/53 [==============================] - 6s 121ms/step - loss: 0.0027 - accuracy: 0.9992 - val_loss: 1.1425 - val_accuracy: 0.8532\n",
            "Epoch 344/400\n",
            "53/53 [==============================] - 6s 121ms/step - loss: 0.0035 - accuracy: 0.9989 - val_loss: 1.1966 - val_accuracy: 0.8528\n",
            "Epoch 345/400\n",
            "53/53 [==============================] - 6s 121ms/step - loss: 0.0021 - accuracy: 0.9993 - val_loss: 1.2204 - val_accuracy: 0.8433\n",
            "Epoch 346/400\n",
            "53/53 [==============================] - 6s 121ms/step - loss: 0.0012 - accuracy: 0.9997 - val_loss: 0.9427 - val_accuracy: 0.8758\n",
            "Epoch 347/400\n",
            "53/53 [==============================] - 6s 121ms/step - loss: 0.0042 - accuracy: 0.9989 - val_loss: 1.1759 - val_accuracy: 0.8580\n",
            "Epoch 348/400\n",
            "53/53 [==============================] - 6s 121ms/step - loss: 0.0066 - accuracy: 0.9979 - val_loss: 0.9140 - val_accuracy: 0.8715\n",
            "Epoch 349/400\n",
            "53/53 [==============================] - 6s 121ms/step - loss: 0.0051 - accuracy: 0.9985 - val_loss: 0.9549 - val_accuracy: 0.8682\n",
            "Epoch 350/400\n",
            "53/53 [==============================] - 6s 121ms/step - loss: 0.0043 - accuracy: 0.9987 - val_loss: 0.9828 - val_accuracy: 0.8662\n",
            "Epoch 351/400\n",
            "53/53 [==============================] - 6s 121ms/step - loss: 0.0033 - accuracy: 0.9989 - val_loss: 1.0755 - val_accuracy: 0.8643\n",
            "Epoch 352/400\n",
            "53/53 [==============================] - 6s 121ms/step - loss: 0.0030 - accuracy: 0.9992 - val_loss: 1.0560 - val_accuracy: 0.8598\n",
            "Epoch 353/400\n",
            "53/53 [==============================] - 6s 121ms/step - loss: 0.0094 - accuracy: 0.9974 - val_loss: 1.0742 - val_accuracy: 0.8568\n",
            "Epoch 354/400\n",
            "53/53 [==============================] - 6s 121ms/step - loss: 0.0032 - accuracy: 0.9992 - val_loss: 0.9437 - val_accuracy: 0.8717\n",
            "Epoch 355/400\n",
            "53/53 [==============================] - 6s 121ms/step - loss: 0.0015 - accuracy: 0.9995 - val_loss: 1.0045 - val_accuracy: 0.8665\n",
            "Epoch 356/400\n",
            "53/53 [==============================] - 6s 121ms/step - loss: 8.4328e-04 - accuracy: 0.9997 - val_loss: 1.0236 - val_accuracy: 0.8685\n",
            "Epoch 357/400\n",
            "53/53 [==============================] - 6s 121ms/step - loss: 0.0013 - accuracy: 0.9995 - val_loss: 0.9843 - val_accuracy: 0.8710\n",
            "Epoch 358/400\n",
            "53/53 [==============================] - 6s 121ms/step - loss: 0.0012 - accuracy: 0.9996 - val_loss: 1.0527 - val_accuracy: 0.8713\n",
            "Epoch 359/400\n",
            "53/53 [==============================] - 6s 121ms/step - loss: 0.0011 - accuracy: 0.9996 - val_loss: 1.0219 - val_accuracy: 0.8730\n",
            "Epoch 360/400\n",
            "53/53 [==============================] - 6s 121ms/step - loss: 8.2194e-04 - accuracy: 0.9997 - val_loss: 1.0545 - val_accuracy: 0.8712\n",
            "Epoch 361/400\n",
            "53/53 [==============================] - 6s 121ms/step - loss: 0.0014 - accuracy: 0.9996 - val_loss: 1.0989 - val_accuracy: 0.8628\n",
            "Epoch 362/400\n",
            "53/53 [==============================] - 6s 121ms/step - loss: 0.0043 - accuracy: 0.9989 - val_loss: 0.9906 - val_accuracy: 0.8717\n",
            "Epoch 363/400\n",
            "53/53 [==============================] - 6s 121ms/step - loss: 0.0022 - accuracy: 0.9992 - val_loss: 0.8944 - val_accuracy: 0.8728\n",
            "Epoch 364/400\n",
            "53/53 [==============================] - 6s 121ms/step - loss: 0.0017 - accuracy: 0.9994 - val_loss: 1.0448 - val_accuracy: 0.8673\n",
            "Epoch 365/400\n",
            "53/53 [==============================] - 6s 121ms/step - loss: 0.0036 - accuracy: 0.9987 - val_loss: 0.9323 - val_accuracy: 0.8687\n",
            "Epoch 366/400\n",
            "53/53 [==============================] - 6s 121ms/step - loss: 0.0028 - accuracy: 0.9991 - val_loss: 0.9540 - val_accuracy: 0.8625\n",
            "Epoch 367/400\n",
            "53/53 [==============================] - 6s 121ms/step - loss: 0.0030 - accuracy: 0.9990 - val_loss: 0.9702 - val_accuracy: 0.8727\n",
            "Epoch 368/400\n",
            "53/53 [==============================] - 6s 121ms/step - loss: 0.0017 - accuracy: 0.9994 - val_loss: 1.0337 - val_accuracy: 0.8732\n",
            "Epoch 369/400\n",
            "53/53 [==============================] - 6s 121ms/step - loss: 0.0019 - accuracy: 0.9994 - val_loss: 0.9928 - val_accuracy: 0.8707\n",
            "Epoch 370/400\n",
            "53/53 [==============================] - 6s 121ms/step - loss: 9.4872e-04 - accuracy: 0.9997 - val_loss: 1.1583 - val_accuracy: 0.8633\n",
            "Epoch 371/400\n",
            "53/53 [==============================] - 6s 121ms/step - loss: 0.0032 - accuracy: 0.9989 - val_loss: 1.0675 - val_accuracy: 0.8600\n",
            "Epoch 372/400\n",
            "53/53 [==============================] - 6s 121ms/step - loss: 0.0024 - accuracy: 0.9991 - val_loss: 1.0348 - val_accuracy: 0.8747\n",
            "Epoch 373/400\n",
            "53/53 [==============================] - 6s 121ms/step - loss: 0.0047 - accuracy: 0.9986 - val_loss: 1.0800 - val_accuracy: 0.8670\n",
            "Epoch 374/400\n",
            "53/53 [==============================] - 6s 121ms/step - loss: 0.0034 - accuracy: 0.9990 - val_loss: 0.9770 - val_accuracy: 0.8690\n",
            "Epoch 375/400\n",
            "53/53 [==============================] - 6s 121ms/step - loss: 0.0043 - accuracy: 0.9989 - val_loss: 0.9012 - val_accuracy: 0.8770\n",
            "Epoch 376/400\n",
            "53/53 [==============================] - 6s 121ms/step - loss: 0.0036 - accuracy: 0.9989 - val_loss: 0.9941 - val_accuracy: 0.8735\n",
            "Epoch 377/400\n",
            "53/53 [==============================] - 6s 121ms/step - loss: 0.0052 - accuracy: 0.9983 - val_loss: 0.9679 - val_accuracy: 0.8722\n",
            "Epoch 378/400\n",
            "53/53 [==============================] - 6s 121ms/step - loss: 0.0080 - accuracy: 0.9975 - val_loss: 1.1257 - val_accuracy: 0.8598\n",
            "Epoch 379/400\n",
            "53/53 [==============================] - 6s 121ms/step - loss: 0.0035 - accuracy: 0.9988 - val_loss: 0.9888 - val_accuracy: 0.8773\n",
            "Epoch 380/400\n",
            "53/53 [==============================] - 6s 121ms/step - loss: 0.0030 - accuracy: 0.9992 - val_loss: 1.1215 - val_accuracy: 0.8682\n",
            "Epoch 381/400\n",
            "53/53 [==============================] - 6s 121ms/step - loss: 0.0023 - accuracy: 0.9992 - val_loss: 0.9928 - val_accuracy: 0.8682\n",
            "Epoch 382/400\n",
            "53/53 [==============================] - 6s 121ms/step - loss: 0.0018 - accuracy: 0.9995 - val_loss: 1.0155 - val_accuracy: 0.8718\n",
            "Epoch 383/400\n",
            "53/53 [==============================] - 6s 121ms/step - loss: 0.0016 - accuracy: 0.9995 - val_loss: 1.0251 - val_accuracy: 0.8697\n",
            "Epoch 384/400\n",
            "53/53 [==============================] - 6s 121ms/step - loss: 0.0016 - accuracy: 0.9996 - val_loss: 1.0530 - val_accuracy: 0.8678\n",
            "Epoch 385/400\n",
            "53/53 [==============================] - 6s 121ms/step - loss: 0.0015 - accuracy: 0.9996 - val_loss: 0.9631 - val_accuracy: 0.8755\n",
            "Epoch 386/400\n",
            "53/53 [==============================] - 6s 121ms/step - loss: 0.0013 - accuracy: 0.9996 - val_loss: 0.9778 - val_accuracy: 0.8755\n",
            "Epoch 387/400\n",
            "53/53 [==============================] - 6s 121ms/step - loss: 0.0048 - accuracy: 0.9986 - val_loss: 0.9392 - val_accuracy: 0.8667\n",
            "Epoch 388/400\n",
            "53/53 [==============================] - 6s 121ms/step - loss: 0.0018 - accuracy: 0.9993 - val_loss: 1.0161 - val_accuracy: 0.8747\n",
            "Epoch 389/400\n",
            "53/53 [==============================] - 6s 121ms/step - loss: 9.5241e-04 - accuracy: 0.9997 - val_loss: 1.0208 - val_accuracy: 0.8750\n",
            "Epoch 390/400\n",
            "53/53 [==============================] - 6s 122ms/step - loss: 0.0011 - accuracy: 0.9996 - val_loss: 1.0031 - val_accuracy: 0.8677\n",
            "Epoch 391/400\n",
            "53/53 [==============================] - 6s 121ms/step - loss: 0.0029 - accuracy: 0.9990 - val_loss: 0.9274 - val_accuracy: 0.8765\n",
            "Epoch 392/400\n",
            "53/53 [==============================] - 6s 121ms/step - loss: 0.0030 - accuracy: 0.9991 - val_loss: 0.9373 - val_accuracy: 0.8697\n",
            "Epoch 393/400\n",
            "53/53 [==============================] - 6s 121ms/step - loss: 0.0031 - accuracy: 0.9989 - val_loss: 1.0186 - val_accuracy: 0.8658\n",
            "Epoch 394/400\n",
            "53/53 [==============================] - 6s 121ms/step - loss: 0.0020 - accuracy: 0.9994 - val_loss: 0.9188 - val_accuracy: 0.8747\n",
            "Epoch 395/400\n",
            "53/53 [==============================] - 6s 121ms/step - loss: 0.0012 - accuracy: 0.9997 - val_loss: 1.0919 - val_accuracy: 0.8655\n",
            "Epoch 396/400\n",
            "53/53 [==============================] - 6s 121ms/step - loss: 0.0021 - accuracy: 0.9994 - val_loss: 1.0127 - val_accuracy: 0.8682\n",
            "Epoch 397/400\n",
            "53/53 [==============================] - 6s 121ms/step - loss: 0.0034 - accuracy: 0.9989 - val_loss: 1.0789 - val_accuracy: 0.8675\n",
            "Epoch 398/400\n",
            "53/53 [==============================] - 6s 122ms/step - loss: 0.0067 - accuracy: 0.9981 - val_loss: 1.0460 - val_accuracy: 0.8567\n",
            "Epoch 399/400\n",
            "53/53 [==============================] - 6s 121ms/step - loss: 0.0044 - accuracy: 0.9986 - val_loss: 0.9507 - val_accuracy: 0.8720\n",
            "Epoch 400/400\n",
            "53/53 [==============================] - 6s 121ms/step - loss: 0.0024 - accuracy: 0.9990 - val_loss: 1.0195 - val_accuracy: 0.8698\n"
          ],
          "name": "stdout"
        },
        {
          "output_type": "execute_result",
          "data": {
            "text/plain": [
              "<tensorflow.python.keras.callbacks.History at 0x7f82e05a6550>"
            ]
          },
          "metadata": {
            "tags": []
          },
          "execution_count": 18
        }
      ]
    },
    {
      "cell_type": "code",
      "metadata": {
        "id": "Oo-4o10LfMDg",
        "colab_type": "code",
        "outputId": "27b60159-6d08-4008-ff31-2b075da4aacb",
        "colab": {
          "base_uri": "https://localhost:8080/",
          "height": 50
        }
      },
      "source": [
        "evaluation=model.evaluate(X_test,y_test)\n",
        "print('Test Accuracy:{:.3f}'.format(evaluation[1]))"
      ],
      "execution_count": 0,
      "outputs": [
        {
          "output_type": "stream",
          "text": [
            "188/188 [==============================] - 1s 3ms/step - loss: 1.0238 - accuracy: 0.8698\n",
            "Test Accuracy:0.870\n"
          ],
          "name": "stdout"
        }
      ]
    },
    {
      "cell_type": "code",
      "metadata": {
        "id": "r1H0xFWFoncV",
        "colab_type": "code",
        "colab": {}
      },
      "source": [
        "test_fea = [str(i) for i in range(0,784)]\n",
        "X_test_t = pd.read_csv('testX.csv', usecols=test_fea)"
      ],
      "execution_count": 0,
      "outputs": []
    },
    {
      "cell_type": "code",
      "metadata": {
        "id": "kDCGSD8dp0CE",
        "colab_type": "code",
        "colab": {}
      },
      "source": [
        "X_test_t =np.array(X_test_t, dtype ='float32')"
      ],
      "execution_count": 0,
      "outputs": []
    },
    {
      "cell_type": "code",
      "metadata": {
        "id": "0CFf6xYWqtjm",
        "colab_type": "code",
        "colab": {}
      },
      "source": [
        "X_test_t = X_test_t.reshape(X_test_t.shape[0],*(28,28,1))\n",
        "X_test_t = X_test_t/255.0"
      ],
      "execution_count": 0,
      "outputs": []
    },
    {
      "cell_type": "code",
      "metadata": {
        "id": "JZTYsWcfNxs-",
        "colab_type": "code",
        "outputId": "1bd19641-c4e9-4557-fb1e-7c09b542e20c",
        "colab": {
          "base_uri": "https://localhost:8080/",
          "height": 34
        }
      },
      "source": [
        "X_test_t.shape"
      ],
      "execution_count": 0,
      "outputs": [
        {
          "output_type": "execute_result",
          "data": {
            "text/plain": [
              "(10000, 28, 28, 1)"
            ]
          },
          "metadata": {
            "tags": []
          },
          "execution_count": 164
        }
      ]
    },
    {
      "cell_type": "code",
      "metadata": {
        "id": "OvS91KdXOC3M",
        "colab_type": "code",
        "colab": {}
      },
      "source": [
        "pred_test = model.predict_classes(X_test_t)\n"
      ],
      "execution_count": 0,
      "outputs": []
    },
    {
      "cell_type": "code",
      "metadata": {
        "id": "fQxu4xc6ORU7",
        "colab_type": "code",
        "outputId": "a0f0fe7b-bf3f-442f-87bf-291f16bc08ee",
        "colab": {
          "base_uri": "https://localhost:8080/",
          "height": 34
        }
      },
      "source": [
        "pred_test"
      ],
      "execution_count": 0,
      "outputs": [
        {
          "output_type": "execute_result",
          "data": {
            "text/plain": [
              "array([3, 4, 1, ..., 3, 1, 2])"
            ]
          },
          "metadata": {
            "tags": []
          },
          "execution_count": 166
        }
      ]
    },
    {
      "cell_type": "code",
      "metadata": {
        "id": "0AbCHUFbOY3n",
        "colab_type": "code",
        "colab": {}
      },
      "source": [
        "id = [i for i in range(0,10000)]\n",
        "frame = pd.DataFrame(id, columns=['Id'])"
      ],
      "execution_count": 0,
      "outputs": []
    },
    {
      "cell_type": "code",
      "metadata": {
        "id": "uJT4cG6NY4AT",
        "colab_type": "code",
        "colab": {}
      },
      "source": [
        "frame['Label'] = pred_test"
      ],
      "execution_count": 0,
      "outputs": []
    },
    {
      "cell_type": "code",
      "metadata": {
        "id": "DqO0bqnTY49O",
        "colab_type": "code",
        "outputId": "fbd4892a-b035-475c-94c3-a284bc3a9bb6",
        "colab": {
          "base_uri": "https://localhost:8080/",
          "height": 402
        }
      },
      "source": [
        "frame"
      ],
      "execution_count": 0,
      "outputs": [
        {
          "output_type": "execute_result",
          "data": {
            "text/html": [
              "<div>\n",
              "<style scoped>\n",
              "    .dataframe tbody tr th:only-of-type {\n",
              "        vertical-align: middle;\n",
              "    }\n",
              "\n",
              "    .dataframe tbody tr th {\n",
              "        vertical-align: top;\n",
              "    }\n",
              "\n",
              "    .dataframe thead th {\n",
              "        text-align: right;\n",
              "    }\n",
              "</style>\n",
              "<table border=\"1\" class=\"dataframe\">\n",
              "  <thead>\n",
              "    <tr style=\"text-align: right;\">\n",
              "      <th></th>\n",
              "      <th>Id</th>\n",
              "      <th>Label</th>\n",
              "    </tr>\n",
              "  </thead>\n",
              "  <tbody>\n",
              "    <tr>\n",
              "      <th>0</th>\n",
              "      <td>0</td>\n",
              "      <td>3</td>\n",
              "    </tr>\n",
              "    <tr>\n",
              "      <th>1</th>\n",
              "      <td>1</td>\n",
              "      <td>4</td>\n",
              "    </tr>\n",
              "    <tr>\n",
              "      <th>2</th>\n",
              "      <td>2</td>\n",
              "      <td>1</td>\n",
              "    </tr>\n",
              "    <tr>\n",
              "      <th>3</th>\n",
              "      <td>3</td>\n",
              "      <td>1</td>\n",
              "    </tr>\n",
              "    <tr>\n",
              "      <th>4</th>\n",
              "      <td>4</td>\n",
              "      <td>3</td>\n",
              "    </tr>\n",
              "    <tr>\n",
              "      <th>...</th>\n",
              "      <td>...</td>\n",
              "      <td>...</td>\n",
              "    </tr>\n",
              "    <tr>\n",
              "      <th>9995</th>\n",
              "      <td>9995</td>\n",
              "      <td>1</td>\n",
              "    </tr>\n",
              "    <tr>\n",
              "      <th>9996</th>\n",
              "      <td>9996</td>\n",
              "      <td>1</td>\n",
              "    </tr>\n",
              "    <tr>\n",
              "      <th>9997</th>\n",
              "      <td>9997</td>\n",
              "      <td>3</td>\n",
              "    </tr>\n",
              "    <tr>\n",
              "      <th>9998</th>\n",
              "      <td>9998</td>\n",
              "      <td>1</td>\n",
              "    </tr>\n",
              "    <tr>\n",
              "      <th>9999</th>\n",
              "      <td>9999</td>\n",
              "      <td>2</td>\n",
              "    </tr>\n",
              "  </tbody>\n",
              "</table>\n",
              "<p>10000 rows × 2 columns</p>\n",
              "</div>"
            ],
            "text/plain": [
              "        Id  Label\n",
              "0        0      3\n",
              "1        1      4\n",
              "2        2      1\n",
              "3        3      1\n",
              "4        4      3\n",
              "...    ...    ...\n",
              "9995  9995      1\n",
              "9996  9996      1\n",
              "9997  9997      3\n",
              "9998  9998      1\n",
              "9999  9999      2\n",
              "\n",
              "[10000 rows x 2 columns]"
            ]
          },
          "metadata": {
            "tags": []
          },
          "execution_count": 170
        }
      ]
    },
    {
      "cell_type": "code",
      "metadata": {
        "id": "MM8mUK5hY-dC",
        "colab_type": "code",
        "colab": {}
      },
      "source": [
        "frame.to_csv(r'submission.csv', index = False)"
      ],
      "execution_count": 0,
      "outputs": []
    },
    {
      "cell_type": "code",
      "metadata": {
        "id": "uo9IQC5fZMs2",
        "colab_type": "code",
        "colab": {}
      },
      "source": [
        "!pip install -q kaggle"
      ],
      "execution_count": 0,
      "outputs": []
    },
    {
      "cell_type": "code",
      "metadata": {
        "id": "M3Mk7cg3ZaiN",
        "colab_type": "code",
        "colab": {}
      },
      "source": [
        "!mkdir -p ~/.kaggle"
      ],
      "execution_count": 0,
      "outputs": []
    },
    {
      "cell_type": "code",
      "metadata": {
        "id": "GGoFpPdKZeWO",
        "colab_type": "code",
        "outputId": "11e9e644-b884-4736-e35b-5a1ec59d0026",
        "colab": {
          "base_uri": "https://localhost:8080/",
          "height": 605
        }
      },
      "source": [
        "ls"
      ],
      "execution_count": 0,
      "outputs": [
        {
          "output_type": "stream",
          "text": [
            " 23A_INVOICE_LTTS_Feb_Tax.pdf\n",
            "\u001b[0m\u001b[01;34m'Colab Notebooks'\u001b[0m/\n",
            "'DataB works.ipynb'\n",
            "'ECE 750 - Final New.gdoc'\n",
            "'ECE 750 - Final Project Report.gdoc'\n",
            "'ECE 750.gdoc'\n",
            "'ECE 750 Lecture 17.gdoc'\n",
            " Experiments.gdoc\n",
            "'Fabricated A5 work.gsheet'\n",
            " \u001b[01;34mfer2013\u001b[0m/\n",
            "'Full page photo1.gdoc'\n",
            "'Full page photo1.pdf'\n",
            "'Innovation, Science and Economic Development (1).gslides'\n",
            "'Innovation, Science and Economic Development (1).pptx'\n",
            "'Innovation, Science and Economic Development.gslides'\n",
            "'Innovation, Science and Economic Development.pptx'\n",
            "'KD-BBR-worksheet2 update.docx'\n",
            "'KD-BBR-worksheet2 update.gdoc'\n",
            " model.h5\n",
            " model.json\n",
            "' my copy a2 Q1 color basic- 4 March.ipynb'\n",
            " output.png\n",
            " raw_1.docx\n",
            "'Research Presentation Raw.gslides'\n",
            "'Resume_Rishi Shah_Rev01.docx'\n",
            "'Rishi-Dhwani Day 1(Makarpura).gsheet'\n",
            "'Rishi-Dhwani Day 1(Makarpura).xlsx'\n",
            " Smit_Resume.docx\n",
            " Smit_Resume.gdoc\n",
            " submission.csv\n",
            " Testing.gdoc\n",
            " testX.csv\n",
            " train.csv\n",
            "'Untitled document.gdoc'\n",
            "'Wine Quality.gdoc'\n"
          ],
          "name": "stdout"
        }
      ]
    },
    {
      "cell_type": "code",
      "metadata": {
        "id": "5J8m_EQuZfAy",
        "colab_type": "code",
        "colab": {}
      },
      "source": [
        "!cp kaggle.json ~/.kaggle/"
      ],
      "execution_count": 0,
      "outputs": []
    },
    {
      "cell_type": "code",
      "metadata": {
        "id": "F21GZ4F3Z7uu",
        "colab_type": "code",
        "colab": {}
      },
      "source": [
        "!chmod 600 ~/.kaggle/kaggle.json"
      ],
      "execution_count": 0,
      "outputs": []
    },
    {
      "cell_type": "code",
      "metadata": {
        "id": "aBAkVAsdbU5o",
        "colab_type": "code",
        "outputId": "1429069a-e35f-4e15-d9ea-df0752d57120",
        "colab": {
          "base_uri": "https://localhost:8080/",
          "height": 67
        }
      },
      "source": [
        "!kaggle competitions submit -c ece657a-w20-asg3-part2 -f submission.csv -m \"First Submission\""
      ],
      "execution_count": 0,
      "outputs": [
        {
          "output_type": "stream",
          "text": [
            "Warning: Looks like you're using an outdated API Version, please consider updating (server 1.5.6 / client 1.5.4)\n",
            "100% 67.3k/67.3k [00:00<00:00, 258kB/s]\n",
            "Successfully submitted to ECE 657A Assignment 3 Part 2"
          ],
          "name": "stdout"
        }
      ]
    }
  ]
}